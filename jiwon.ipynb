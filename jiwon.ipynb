{
 "cells": [
  {
   "cell_type": "markdown",
   "metadata": {},
   "source": [
    "# 개인 정리 내용"
   ]
  },
  {
   "cell_type": "markdown",
   "metadata": {},
   "source": [
    "## 라이브러리 세팅하기"
   ]
  },
  {
   "cell_type": "code",
   "execution_count": 37,
   "metadata": {},
   "outputs": [],
   "source": [
    "import pandas as pd\n",
    "import numpy as np\n",
    "import matplotlib.pyplot as plt\n",
    "import seaborn as sns"
   ]
  },
  {
   "cell_type": "markdown",
   "metadata": {},
   "source": [
    "## 데이터 불러오기"
   ]
  },
  {
   "cell_type": "code",
   "execution_count": 51,
   "metadata": {},
   "outputs": [
    {
     "data": {
      "text/html": [
       "<div>\n",
       "<style scoped>\n",
       "    .dataframe tbody tr th:only-of-type {\n",
       "        vertical-align: middle;\n",
       "    }\n",
       "\n",
       "    .dataframe tbody tr th {\n",
       "        vertical-align: top;\n",
       "    }\n",
       "\n",
       "    .dataframe thead th {\n",
       "        text-align: right;\n",
       "    }\n",
       "</style>\n",
       "<table border=\"1\" class=\"dataframe\">\n",
       "  <thead>\n",
       "    <tr style=\"text-align: right;\">\n",
       "      <th></th>\n",
       "      <th>ID</th>\n",
       "      <th>Movie_Name</th>\n",
       "      <th>Director</th>\n",
       "      <th>Production_Company</th>\n",
       "      <th>Import_Company</th>\n",
       "      <th>Distributing_Agency</th>\n",
       "      <th>Release_Date</th>\n",
       "      <th>Movie_Type</th>\n",
       "      <th>Movie_Form</th>\n",
       "      <th>Nationality</th>\n",
       "      <th>National_number_screens</th>\n",
       "      <th>National_Sales</th>\n",
       "      <th>National_Audience</th>\n",
       "      <th>Seoul_Sales</th>\n",
       "      <th>Seoul_Audience</th>\n",
       "      <th>Genre</th>\n",
       "      <th>Rating</th>\n",
       "      <th>Movie_Classification</th>\n",
       "    </tr>\n",
       "  </thead>\n",
       "  <tbody>\n",
       "    <tr>\n",
       "      <th>0</th>\n",
       "      <td>1</td>\n",
       "      <td>명량</td>\n",
       "      <td>김한민</td>\n",
       "      <td>(주)빅스톤픽쳐스</td>\n",
       "      <td>NaN</td>\n",
       "      <td>(주)씨제이이엔엠</td>\n",
       "      <td>2014-07-30</td>\n",
       "      <td>개봉영화</td>\n",
       "      <td>장편</td>\n",
       "      <td>한국</td>\n",
       "      <td>1,587</td>\n",
       "      <td>135,748,398,910</td>\n",
       "      <td>17,613,682</td>\n",
       "      <td>33,121,225,810</td>\n",
       "      <td>4,163,666</td>\n",
       "      <td>사극</td>\n",
       "      <td>15세이상관람가</td>\n",
       "      <td>일반영화</td>\n",
       "    </tr>\n",
       "    <tr>\n",
       "      <th>1</th>\n",
       "      <td>2</td>\n",
       "      <td>아바타</td>\n",
       "      <td>제임스 카메론</td>\n",
       "      <td>이십세기폭스필름코퍼레이션</td>\n",
       "      <td>주식회사 해리슨앤컴퍼니,이십세기폭스코리아(주)</td>\n",
       "      <td>주식회사 해리슨앤컴퍼니,이십세기폭스코리아(주)</td>\n",
       "      <td>2009-12-17</td>\n",
       "      <td>개봉영화</td>\n",
       "      <td>장편</td>\n",
       "      <td>미국</td>\n",
       "      <td>912</td>\n",
       "      <td>128,447,097,523</td>\n",
       "      <td>13,624,328</td>\n",
       "      <td>40,547,523,000</td>\n",
       "      <td>3,993,374</td>\n",
       "      <td>SF</td>\n",
       "      <td>12세이상관람가</td>\n",
       "      <td>독립/예술영화</td>\n",
       "    </tr>\n",
       "    <tr>\n",
       "      <th>2</th>\n",
       "      <td>3</td>\n",
       "      <td>왕의 남자</td>\n",
       "      <td>이준익</td>\n",
       "      <td>(주)씨네월드,(주)이글픽쳐스</td>\n",
       "      <td>NaN</td>\n",
       "      <td>(주)시네마서비스</td>\n",
       "      <td>2005-12-29</td>\n",
       "      <td>개봉영화</td>\n",
       "      <td>장편</td>\n",
       "      <td>한국</td>\n",
       "      <td>0</td>\n",
       "      <td>0</td>\n",
       "      <td>12,302,831</td>\n",
       "      <td>0</td>\n",
       "      <td>3,660,842</td>\n",
       "      <td>드라마</td>\n",
       "      <td>15세이상관람가</td>\n",
       "      <td>일반영화</td>\n",
       "    </tr>\n",
       "    <tr>\n",
       "      <th>3</th>\n",
       "      <td>4</td>\n",
       "      <td>극한직업</td>\n",
       "      <td>이병헌</td>\n",
       "      <td>(주)어바웃잇,영화사 해그림 주식회사,(주)씨제이이엔엠</td>\n",
       "      <td>NaN</td>\n",
       "      <td>(주)씨제이이엔엠</td>\n",
       "      <td>2019-01-23</td>\n",
       "      <td>개봉영화</td>\n",
       "      <td>장편</td>\n",
       "      <td>한국</td>\n",
       "      <td>1,978</td>\n",
       "      <td>139,647,979,516</td>\n",
       "      <td>16,264,944</td>\n",
       "      <td>31,858,660,536</td>\n",
       "      <td>3,638,287</td>\n",
       "      <td>코미디</td>\n",
       "      <td>15세이상관람가</td>\n",
       "      <td>일반영화</td>\n",
       "    </tr>\n",
       "    <tr>\n",
       "      <th>4</th>\n",
       "      <td>5</td>\n",
       "      <td>어벤져스: 엔드게임</td>\n",
       "      <td>안소니 루소,조 루소</td>\n",
       "      <td>NaN</td>\n",
       "      <td>월트디즈니컴퍼니코리아 유한책임회사</td>\n",
       "      <td>월트디즈니컴퍼니코리아 유한책임회사</td>\n",
       "      <td>2019-04-24</td>\n",
       "      <td>개봉영화</td>\n",
       "      <td>장편</td>\n",
       "      <td>미국</td>\n",
       "      <td>2,835</td>\n",
       "      <td>122,182,694,160</td>\n",
       "      <td>13,934,592</td>\n",
       "      <td>33,577,136,860</td>\n",
       "      <td>3,597,963</td>\n",
       "      <td>액션</td>\n",
       "      <td>12세이상관람가</td>\n",
       "      <td>일반영화</td>\n",
       "    </tr>\n",
       "  </tbody>\n",
       "</table>\n",
       "</div>"
      ],
      "text/plain": [
       "   ID  Movie_Name     Director              Production_Company  \\\n",
       "0   1          명량          김한민                       (주)빅스톤픽쳐스   \n",
       "1   2         아바타      제임스 카메론                   이십세기폭스필름코퍼레이션   \n",
       "2   3       왕의 남자          이준익                (주)씨네월드,(주)이글픽쳐스   \n",
       "3   4        극한직업          이병헌  (주)어바웃잇,영화사 해그림 주식회사,(주)씨제이이엔엠   \n",
       "4   5  어벤져스: 엔드게임  안소니 루소,조 루소                             NaN   \n",
       "\n",
       "              Import_Company        Distributing_Agency Release_Date  \\\n",
       "0                        NaN                  (주)씨제이이엔엠   2014-07-30   \n",
       "1  주식회사 해리슨앤컴퍼니,이십세기폭스코리아(주)  주식회사 해리슨앤컴퍼니,이십세기폭스코리아(주)   2009-12-17   \n",
       "2                        NaN                  (주)시네마서비스   2005-12-29   \n",
       "3                        NaN                  (주)씨제이이엔엠   2019-01-23   \n",
       "4         월트디즈니컴퍼니코리아 유한책임회사         월트디즈니컴퍼니코리아 유한책임회사   2019-04-24   \n",
       "\n",
       "  Movie_Type Movie_Form Nationality National_number_screens   National_Sales  \\\n",
       "0       개봉영화         장편          한국                   1,587  135,748,398,910   \n",
       "1       개봉영화         장편          미국                     912  128,447,097,523   \n",
       "2       개봉영화         장편          한국                       0                0   \n",
       "3       개봉영화         장편          한국                   1,978  139,647,979,516   \n",
       "4       개봉영화         장편          미국                   2,835  122,182,694,160   \n",
       "\n",
       "  National_Audience     Seoul_Sales Seoul_Audience Genre    Rating  \\\n",
       "0        17,613,682  33,121,225,810      4,163,666    사극  15세이상관람가   \n",
       "1        13,624,328  40,547,523,000      3,993,374    SF  12세이상관람가   \n",
       "2        12,302,831               0      3,660,842   드라마  15세이상관람가   \n",
       "3        16,264,944  31,858,660,536      3,638,287   코미디  15세이상관람가   \n",
       "4        13,934,592  33,577,136,860      3,597,963    액션  12세이상관람가   \n",
       "\n",
       "  Movie_Classification  \n",
       "0                 일반영화  \n",
       "1              독립/예술영화  \n",
       "2                 일반영화  \n",
       "3                 일반영화  \n",
       "4                 일반영화  "
      ]
     },
     "execution_count": 51,
     "metadata": {},
     "output_type": "execute_result"
    }
   ],
   "source": [
    "data = pd.read_csv('KOBIS.csv') # 데이터 읽어 오기 \n",
    "data.head()"
   ]
  },
  {
   "cell_type": "code",
   "execution_count": 39,
   "metadata": {},
   "outputs": [
    {
     "name": "stdout",
     "output_type": "stream",
     "text": [
      "<class 'pandas.core.frame.DataFrame'>\n",
      "RangeIndex: 26197 entries, 0 to 26196\n",
      "Data columns (total 18 columns):\n",
      " #   Column                   Non-Null Count  Dtype \n",
      "---  ------                   --------------  ----- \n",
      " 0   ID                       26197 non-null  int64 \n",
      " 1   Movie_Name               26197 non-null  object\n",
      " 2   Director                 24690 non-null  object\n",
      " 3   Production_Company       11179 non-null  object\n",
      " 4   Import_Company           15646 non-null  object\n",
      " 5   Distributing_Agency      19546 non-null  object\n",
      " 6   Release_Date             26176 non-null  object\n",
      " 7   Movie_Type               26197 non-null  object\n",
      " 8   Movie_Form               26178 non-null  object\n",
      " 9   Nationality              26186 non-null  object\n",
      " 10  National_number_screens  26197 non-null  object\n",
      " 11  National_Sales           25141 non-null  object\n",
      " 12  National_Audience        26197 non-null  object\n",
      " 13  Seoul_Sales              25135 non-null  object\n",
      " 14  Seoul_Audience           26197 non-null  object\n",
      " 15  Genre                    26006 non-null  object\n",
      " 16  Rating                   25709 non-null  object\n",
      " 17  Movie_Classification     26197 non-null  object\n",
      "dtypes: int64(1), object(17)\n",
      "memory usage: 3.6+ MB\n"
     ]
    }
   ],
   "source": [
    "data.info()"
   ]
  },
  {
   "cell_type": "markdown",
   "metadata": {},
   "source": [
    "## 전처리"
   ]
  },
  {
   "cell_type": "markdown",
   "metadata": {},
   "source": [
    "### 년도와 수익금과 장르를 사용해서 시각화!\n",
    "- lineplot"
   ]
  },
  {
   "cell_type": "code",
   "execution_count": null,
   "metadata": {},
   "outputs": [],
   "source": [
    "#"
   ]
  },
  {
   "cell_type": "markdown",
   "metadata": {},
   "source": [
    "# 연습\n",
    "\n",
    "# "
   ]
  },
  {
   "cell_type": "code",
   "execution_count": 57,
   "metadata": {},
   "outputs": [
    {
     "data": {
      "text/plain": [
       "[4, 2]"
      ]
     },
     "execution_count": 57,
     "metadata": {},
     "output_type": "execute_result"
    }
   ],
   "source": [
    "a, b = [1, 2], [3, 4]\n",
    "a[0] + b[0]\n",
    "a[0] = a[0] + b[0]\n",
    "a"
   ]
  },
  {
   "cell_type": "code",
   "execution_count": 50,
   "metadata": {},
   "outputs": [
    {
     "data": {
      "text/plain": [
       "0       2014-07-30\n",
       "1       2009-12-17\n",
       "2       2005-12-29\n",
       "3       2019-01-23\n",
       "4       2019-04-24\n",
       "           ...    \n",
       "26192   2019-06-27\n",
       "26193   2013-08-14\n",
       "26194   2016-12-01\n",
       "26195   2017-12-25\n",
       "26196   2016-12-22\n",
       "Name: Release_Date, Length: 26197, dtype: datetime64[ns]"
      ]
     },
     "execution_count": 50,
     "metadata": {},
     "output_type": "execute_result"
    }
   ],
   "source": [
    "data"
   ]
  },
  {
   "cell_type": "code",
   "execution_count": 58,
   "metadata": {},
   "outputs": [
    {
     "data": {
      "text/html": [
       "<div>\n",
       "<style scoped>\n",
       "    .dataframe tbody tr th:only-of-type {\n",
       "        vertical-align: middle;\n",
       "    }\n",
       "\n",
       "    .dataframe tbody tr th {\n",
       "        vertical-align: top;\n",
       "    }\n",
       "\n",
       "    .dataframe thead th {\n",
       "        text-align: right;\n",
       "    }\n",
       "</style>\n",
       "<table border=\"1\" class=\"dataframe\">\n",
       "  <thead>\n",
       "    <tr style=\"text-align: right;\">\n",
       "      <th></th>\n",
       "      <th>ID</th>\n",
       "      <th>Movie_Name</th>\n",
       "      <th>Director</th>\n",
       "      <th>Production_Company</th>\n",
       "      <th>Import_Company</th>\n",
       "      <th>Distributing_Agency</th>\n",
       "      <th>Release_Date</th>\n",
       "      <th>Movie_Type</th>\n",
       "      <th>Movie_Form</th>\n",
       "      <th>Nationality</th>\n",
       "      <th>National_number_screens</th>\n",
       "      <th>National_Sales</th>\n",
       "      <th>National_Audience</th>\n",
       "      <th>Seoul_Sales</th>\n",
       "      <th>Seoul_Audience</th>\n",
       "      <th>Genre</th>\n",
       "      <th>Rating</th>\n",
       "      <th>Movie_Classification</th>\n",
       "    </tr>\n",
       "  </thead>\n",
       "  <tbody>\n",
       "    <tr>\n",
       "      <th>0</th>\n",
       "      <td>1</td>\n",
       "      <td>명량</td>\n",
       "      <td>김한민</td>\n",
       "      <td>(주)빅스톤픽쳐스</td>\n",
       "      <td>NaN</td>\n",
       "      <td>(주)씨제이이엔엠</td>\n",
       "      <td>2014-07-30</td>\n",
       "      <td>개봉영화</td>\n",
       "      <td>장편</td>\n",
       "      <td>한국</td>\n",
       "      <td>1,587</td>\n",
       "      <td>135,748,398,910</td>\n",
       "      <td>17,613,682</td>\n",
       "      <td>33,121,225,810</td>\n",
       "      <td>4,163,666</td>\n",
       "      <td>사극</td>\n",
       "      <td>15세이상관람가</td>\n",
       "      <td>일반영화</td>\n",
       "    </tr>\n",
       "    <tr>\n",
       "      <th>1</th>\n",
       "      <td>2</td>\n",
       "      <td>아바타</td>\n",
       "      <td>제임스 카메론</td>\n",
       "      <td>이십세기폭스필름코퍼레이션</td>\n",
       "      <td>주식회사 해리슨앤컴퍼니,이십세기폭스코리아(주)</td>\n",
       "      <td>주식회사 해리슨앤컴퍼니,이십세기폭스코리아(주)</td>\n",
       "      <td>2009-12-17</td>\n",
       "      <td>개봉영화</td>\n",
       "      <td>장편</td>\n",
       "      <td>미국</td>\n",
       "      <td>912</td>\n",
       "      <td>128,447,097,523</td>\n",
       "      <td>13,624,328</td>\n",
       "      <td>40,547,523,000</td>\n",
       "      <td>3,993,374</td>\n",
       "      <td>SF</td>\n",
       "      <td>12세이상관람가</td>\n",
       "      <td>독립/예술영화</td>\n",
       "    </tr>\n",
       "    <tr>\n",
       "      <th>2</th>\n",
       "      <td>3</td>\n",
       "      <td>왕의 남자</td>\n",
       "      <td>이준익</td>\n",
       "      <td>(주)씨네월드,(주)이글픽쳐스</td>\n",
       "      <td>NaN</td>\n",
       "      <td>(주)시네마서비스</td>\n",
       "      <td>2005-12-29</td>\n",
       "      <td>개봉영화</td>\n",
       "      <td>장편</td>\n",
       "      <td>한국</td>\n",
       "      <td>0</td>\n",
       "      <td>0</td>\n",
       "      <td>12,302,831</td>\n",
       "      <td>0</td>\n",
       "      <td>3,660,842</td>\n",
       "      <td>드라마</td>\n",
       "      <td>15세이상관람가</td>\n",
       "      <td>일반영화</td>\n",
       "    </tr>\n",
       "    <tr>\n",
       "      <th>3</th>\n",
       "      <td>4</td>\n",
       "      <td>극한직업</td>\n",
       "      <td>이병헌</td>\n",
       "      <td>(주)어바웃잇,영화사 해그림 주식회사,(주)씨제이이엔엠</td>\n",
       "      <td>NaN</td>\n",
       "      <td>(주)씨제이이엔엠</td>\n",
       "      <td>2019-01-23</td>\n",
       "      <td>개봉영화</td>\n",
       "      <td>장편</td>\n",
       "      <td>한국</td>\n",
       "      <td>1,978</td>\n",
       "      <td>139,647,979,516</td>\n",
       "      <td>16,264,944</td>\n",
       "      <td>31,858,660,536</td>\n",
       "      <td>3,638,287</td>\n",
       "      <td>코미디</td>\n",
       "      <td>15세이상관람가</td>\n",
       "      <td>일반영화</td>\n",
       "    </tr>\n",
       "    <tr>\n",
       "      <th>4</th>\n",
       "      <td>5</td>\n",
       "      <td>어벤져스: 엔드게임</td>\n",
       "      <td>안소니 루소,조 루소</td>\n",
       "      <td>NaN</td>\n",
       "      <td>월트디즈니컴퍼니코리아 유한책임회사</td>\n",
       "      <td>월트디즈니컴퍼니코리아 유한책임회사</td>\n",
       "      <td>2019-04-24</td>\n",
       "      <td>개봉영화</td>\n",
       "      <td>장편</td>\n",
       "      <td>미국</td>\n",
       "      <td>2,835</td>\n",
       "      <td>122,182,694,160</td>\n",
       "      <td>13,934,592</td>\n",
       "      <td>33,577,136,860</td>\n",
       "      <td>3,597,963</td>\n",
       "      <td>액션</td>\n",
       "      <td>12세이상관람가</td>\n",
       "      <td>일반영화</td>\n",
       "    </tr>\n",
       "  </tbody>\n",
       "</table>\n",
       "</div>"
      ],
      "text/plain": [
       "   ID  Movie_Name     Director              Production_Company  \\\n",
       "0   1          명량          김한민                       (주)빅스톤픽쳐스   \n",
       "1   2         아바타      제임스 카메론                   이십세기폭스필름코퍼레이션   \n",
       "2   3       왕의 남자          이준익                (주)씨네월드,(주)이글픽쳐스   \n",
       "3   4        극한직업          이병헌  (주)어바웃잇,영화사 해그림 주식회사,(주)씨제이이엔엠   \n",
       "4   5  어벤져스: 엔드게임  안소니 루소,조 루소                             NaN   \n",
       "\n",
       "              Import_Company        Distributing_Agency Release_Date  \\\n",
       "0                        NaN                  (주)씨제이이엔엠   2014-07-30   \n",
       "1  주식회사 해리슨앤컴퍼니,이십세기폭스코리아(주)  주식회사 해리슨앤컴퍼니,이십세기폭스코리아(주)   2009-12-17   \n",
       "2                        NaN                  (주)시네마서비스   2005-12-29   \n",
       "3                        NaN                  (주)씨제이이엔엠   2019-01-23   \n",
       "4         월트디즈니컴퍼니코리아 유한책임회사         월트디즈니컴퍼니코리아 유한책임회사   2019-04-24   \n",
       "\n",
       "  Movie_Type Movie_Form Nationality National_number_screens   National_Sales  \\\n",
       "0       개봉영화         장편          한국                   1,587  135,748,398,910   \n",
       "1       개봉영화         장편          미국                     912  128,447,097,523   \n",
       "2       개봉영화         장편          한국                       0                0   \n",
       "3       개봉영화         장편          한국                   1,978  139,647,979,516   \n",
       "4       개봉영화         장편          미국                   2,835  122,182,694,160   \n",
       "\n",
       "  National_Audience     Seoul_Sales Seoul_Audience Genre    Rating  \\\n",
       "0        17,613,682  33,121,225,810      4,163,666    사극  15세이상관람가   \n",
       "1        13,624,328  40,547,523,000      3,993,374    SF  12세이상관람가   \n",
       "2        12,302,831               0      3,660,842   드라마  15세이상관람가   \n",
       "3        16,264,944  31,858,660,536      3,638,287   코미디  15세이상관람가   \n",
       "4        13,934,592  33,577,136,860      3,597,963    액션  12세이상관람가   \n",
       "\n",
       "  Movie_Classification  \n",
       "0                 일반영화  \n",
       "1              독립/예술영화  \n",
       "2                 일반영화  \n",
       "3                 일반영화  \n",
       "4                 일반영화  "
      ]
     },
     "execution_count": 58,
     "metadata": {},
     "output_type": "execute_result"
    }
   ],
   "source": [
    "\n",
    "# data = pd.to_datetime(data['Release_Date'], format = \"%Y-%m-%d\")\n",
    "data['Release_Date'] = pd.to_datetime(data['Release_Date'], format = \"%Y-%m-%d\")\n",
    "\n",
    "data.head()"
   ]
  },
  {
   "cell_type": "code",
   "execution_count": 59,
   "metadata": {},
   "outputs": [
    {
     "name": "stdout",
     "output_type": "stream",
     "text": [
      "<class 'pandas.core.frame.DataFrame'>\n",
      "RangeIndex: 26197 entries, 0 to 26196\n",
      "Data columns (total 18 columns):\n",
      " #   Column                   Non-Null Count  Dtype         \n",
      "---  ------                   --------------  -----         \n",
      " 0   ID                       26197 non-null  int64         \n",
      " 1   Movie_Name               26197 non-null  object        \n",
      " 2   Director                 24690 non-null  object        \n",
      " 3   Production_Company       11179 non-null  object        \n",
      " 4   Import_Company           15646 non-null  object        \n",
      " 5   Distributing_Agency      19546 non-null  object        \n",
      " 6   Release_Date             26176 non-null  datetime64[ns]\n",
      " 7   Movie_Type               26197 non-null  object        \n",
      " 8   Movie_Form               26178 non-null  object        \n",
      " 9   Nationality              26186 non-null  object        \n",
      " 10  National_number_screens  26197 non-null  object        \n",
      " 11  National_Sales           25141 non-null  object        \n",
      " 12  National_Audience        26197 non-null  object        \n",
      " 13  Seoul_Sales              25135 non-null  object        \n",
      " 14  Seoul_Audience           26197 non-null  object        \n",
      " 15  Genre                    26006 non-null  object        \n",
      " 16  Rating                   25709 non-null  object        \n",
      " 17  Movie_Classification     26197 non-null  object        \n",
      "dtypes: datetime64[ns](1), int64(1), object(16)\n",
      "memory usage: 3.6+ MB\n"
     ]
    }
   ],
   "source": [
    "data.info()"
   ]
  },
  {
   "cell_type": "code",
   "execution_count": 60,
   "metadata": {},
   "outputs": [
    {
     "data": {
      "text/plain": [
       "0        2014.0\n",
       "1        2009.0\n",
       "2        2005.0\n",
       "3        2019.0\n",
       "4        2019.0\n",
       "          ...  \n",
       "26192    2019.0\n",
       "26193    2013.0\n",
       "26194    2016.0\n",
       "26195    2017.0\n",
       "26196    2016.0\n",
       "Name: Release_Date, Length: 26197, dtype: float64"
      ]
     },
     "execution_count": 60,
     "metadata": {},
     "output_type": "execute_result"
    }
   ],
   "source": [
    "# 연도 뽑아오기 \n",
    "import datetime\n",
    "data['Release_Date'].dt.year\n"
   ]
  },
  {
   "cell_type": "code",
   "execution_count": 61,
   "metadata": {},
   "outputs": [
    {
     "data": {
      "text/plain": [
       "0         7.0\n",
       "1        12.0\n",
       "2        12.0\n",
       "3         1.0\n",
       "4         4.0\n",
       "         ... \n",
       "26192     6.0\n",
       "26193     8.0\n",
       "26194    12.0\n",
       "26195    12.0\n",
       "26196    12.0\n",
       "Name: Release_Date, Length: 26197, dtype: float64"
      ]
     },
     "execution_count": 61,
     "metadata": {},
     "output_type": "execute_result"
    }
   ],
   "source": [
    "data['Release_Date'].dt.month"
   ]
  },
  {
   "cell_type": "code",
   "execution_count": 62,
   "metadata": {},
   "outputs": [
    {
     "data": {
      "text/plain": [
       "0        30.0\n",
       "1        17.0\n",
       "2        29.0\n",
       "3        23.0\n",
       "4        24.0\n",
       "         ... \n",
       "26192    27.0\n",
       "26193    14.0\n",
       "26194     1.0\n",
       "26195    25.0\n",
       "26196    22.0\n",
       "Name: Release_Date, Length: 26197, dtype: float64"
      ]
     },
     "execution_count": 62,
     "metadata": {},
     "output_type": "execute_result"
    }
   ],
   "source": [
    "data['Release_Date'].dt.day\n"
   ]
  },
  {
   "cell_type": "code",
   "execution_count": null,
   "metadata": {},
   "outputs": [],
   "source": []
  }
 ],
 "metadata": {
  "kernelspec": {
   "display_name": "Python 3.8.9 64-bit",
   "language": "python",
   "name": "python3"
  },
  "language_info": {
   "codemirror_mode": {
    "name": "ipython",
    "version": 3
   },
   "file_extension": ".py",
   "mimetype": "text/x-python",
   "name": "python",
   "nbconvert_exporter": "python",
   "pygments_lexer": "ipython3",
   "version": "3.8.9"
  },
  "orig_nbformat": 4,
  "vscode": {
   "interpreter": {
    "hash": "31f2aee4e71d21fbe5cf8b01ff0e069b9275f58929596ceb00d14d90e3e16cd6"
   }
  }
 },
 "nbformat": 4,
 "nbformat_minor": 2
}
