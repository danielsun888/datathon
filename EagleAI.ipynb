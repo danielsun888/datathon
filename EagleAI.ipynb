{
 "cells": [
  {
   "cell_type": "markdown",
   "metadata": {},
   "source": [
    "# Dataton - Aiffel\n",
    "* 대구 캠퍼스\n",
    "* EagleAI\n",
    "* 영화관 입장권 통합 전산망\n",
    "* 김용훈, 최지원, Daniel"
   ]
  },
  {
   "cell_type": "markdown",
   "metadata": {},
   "source": [
    "## 목차"
   ]
  },
  {
   "cell_type": "markdown",
   "metadata": {},
   "source": [
    "1. 사용할 라이브러리 및 데이터 불러오기\n",
    "2. 데이터 EDA 및 Preprocessing\n",
    "3. 여러 지표에 따른 시각화"
   ]
  },
  {
   "cell_type": "markdown",
   "metadata": {},
   "source": [
    "## 1. 사용할 라이브러리 및 데이터 불러오기"
   ]
  },
  {
   "cell_type": "markdown",
   "metadata": {},
   "source": [
    "* matplotlib에 한글을 출력하기 위한 커맨드 라인 입니다.\n",
    "* 'rc' 함수를 써러 한글 폰트를 맞춥니다. (나눔 고딕)"
   ]
  },
  {
   "cell_type": "code",
   "execution_count": 353,
   "metadata": {},
   "outputs": [],
   "source": [
    "import pandas as pd\n",
    "import numpy as np\n",
    "import matplotlib.pyplot as plt\n",
    "import seaborn as sns\n",
    "import dataframe_image as dfi\n",
    "\n",
    "# !sudo apt-get install -y fonts-nanum\n",
    "# !sudo fc-cache -fv\n",
    "# !rm ~/.cache/matplotlib -rf\n",
    "\n",
    "plt.rc('font', family='NanumBarunGothic')"
   ]
  },
  {
   "cell_type": "markdown",
   "metadata": {},
   "source": [
    "* 데이터를 불러옵니다.(1971 ~ 2022)\n",
    "* 데이터의 형태와 head를 출력합니다."
   ]
  },
  {
   "cell_type": "code",
   "execution_count": 354,
   "metadata": {},
   "outputs": [
    {
     "name": "stdout",
     "output_type": "stream",
     "text": [
      "(26197, 18)\n"
     ]
    },
    {
     "name": "stderr",
     "output_type": "stream",
     "text": [
      "[0728/210605.779309:WARNING:bluez_dbus_manager.cc(247)] Floss manager not present, cannot set Floss enable/disable.\n",
      "[0728/210607.417850:WARNING:sandbox_linux.cc(376)] InitializeSandbox() called with multiple threads in process gpu-process.\n",
      "[0728/210607.490264:INFO:headless_shell.cc(660)] Written to file /tmp/tmppleu8tnu/temp.png.\n",
      "[0728/210607.615233:WARNING:sandbox_linux.cc(376)] InitializeSandbox() called with multiple threads in process gpu-process.\n",
      "[0728/210607.642348:WARNING:bluez_dbus_manager.cc(247)] Floss manager not present, cannot set Floss enable/disable.\n",
      "[0728/210607.817725:INFO:headless_shell.cc(660)] Written to file /tmp/tmpiu4gado0/temp.png.\n",
      "[0728/210607.981908:WARNING:sandbox_linux.cc(376)] InitializeSandbox() called with multiple threads in process gpu-process.\n",
      "[0728/210607.995918:WARNING:bluez_dbus_manager.cc(247)] Floss manager not present, cannot set Floss enable/disable.\n",
      "[0728/210608.229899:INFO:headless_shell.cc(660)] Written to file /tmp/tmp_mf_tunu/temp.png.\n"
     ]
    }
   ],
   "source": [
    "data = pd.read_csv('KOBIS.csv')\n",
    "print(data.shape)\n",
    "data.head()\n",
    "\n",
    "dfi.export(data.head(), 'graph/kyh_d_1_head.png')"
   ]
  },
  {
   "cell_type": "markdown",
   "metadata": {},
   "source": [
    "## 2. 데이터 EDA 및 Preprocessing"
   ]
  },
  {
   "cell_type": "markdown",
   "metadata": {},
   "source": [
    "중점적으로 볼 columns입니다.\n",
    "* Movie_Name : 영화 이름\n",
    "* Relase_Date : 개봉 일자\n",
    "* Nationality : 국적\n",
    "* National_Sales : 전국 매출액\n",
    "* National_Audience : 전국 관객수\n",
    "* Rating : 등급"
   ]
  },
  {
   "cell_type": "code",
   "execution_count": 355,
   "metadata": {},
   "outputs": [
    {
     "name": "stderr",
     "output_type": "stream",
     "text": [
      "[0728/210608.509485:WARNING:sandbox_linux.cc(376)] InitializeSandbox() called with multiple threads in process gpu-process.\n",
      "[0728/210608.524288:WARNING:bluez_dbus_manager.cc(247)] Floss manager not present, cannot set Floss enable/disable.\n",
      "[0728/210608.655390:INFO:headless_shell.cc(660)] Written to file /tmp/tmp23jrz7mk/temp.png.\n"
     ]
    },
    {
     "data": {
      "text/html": [
       "<div>\n",
       "<style scoped>\n",
       "    .dataframe tbody tr th:only-of-type {\n",
       "        vertical-align: middle;\n",
       "    }\n",
       "\n",
       "    .dataframe tbody tr th {\n",
       "        vertical-align: top;\n",
       "    }\n",
       "\n",
       "    .dataframe thead th {\n",
       "        text-align: right;\n",
       "    }\n",
       "</style>\n",
       "<table border=\"1\" class=\"dataframe\">\n",
       "  <thead>\n",
       "    <tr style=\"text-align: right;\">\n",
       "      <th></th>\n",
       "      <th>Movie_Name</th>\n",
       "      <th>Release_Date</th>\n",
       "      <th>Nationality</th>\n",
       "      <th>National_Sales</th>\n",
       "      <th>National_Audience</th>\n",
       "      <th>Rating</th>\n",
       "    </tr>\n",
       "  </thead>\n",
       "  <tbody>\n",
       "    <tr>\n",
       "      <th>0</th>\n",
       "      <td>명량</td>\n",
       "      <td>2014-07-30</td>\n",
       "      <td>한국</td>\n",
       "      <td>135,748,398,910</td>\n",
       "      <td>17,613,682</td>\n",
       "      <td>15세이상관람가</td>\n",
       "    </tr>\n",
       "    <tr>\n",
       "      <th>1</th>\n",
       "      <td>아바타</td>\n",
       "      <td>2009-12-17</td>\n",
       "      <td>미국</td>\n",
       "      <td>128,447,097,523</td>\n",
       "      <td>13,624,328</td>\n",
       "      <td>12세이상관람가</td>\n",
       "    </tr>\n",
       "    <tr>\n",
       "      <th>2</th>\n",
       "      <td>왕의 남자</td>\n",
       "      <td>2005-12-29</td>\n",
       "      <td>한국</td>\n",
       "      <td>0</td>\n",
       "      <td>12,302,831</td>\n",
       "      <td>15세이상관람가</td>\n",
       "    </tr>\n",
       "    <tr>\n",
       "      <th>3</th>\n",
       "      <td>극한직업</td>\n",
       "      <td>2019-01-23</td>\n",
       "      <td>한국</td>\n",
       "      <td>139,647,979,516</td>\n",
       "      <td>16,264,944</td>\n",
       "      <td>15세이상관람가</td>\n",
       "    </tr>\n",
       "    <tr>\n",
       "      <th>4</th>\n",
       "      <td>어벤져스: 엔드게임</td>\n",
       "      <td>2019-04-24</td>\n",
       "      <td>미국</td>\n",
       "      <td>122,182,694,160</td>\n",
       "      <td>13,934,592</td>\n",
       "      <td>12세이상관람가</td>\n",
       "    </tr>\n",
       "  </tbody>\n",
       "</table>\n",
       "</div>"
      ],
      "text/plain": [
       "   Movie_Name Release_Date Nationality   National_Sales National_Audience  \\\n",
       "0          명량   2014-07-30          한국  135,748,398,910        17,613,682   \n",
       "1         아바타   2009-12-17          미국  128,447,097,523        13,624,328   \n",
       "2       왕의 남자   2005-12-29          한국                0        12,302,831   \n",
       "3        극한직업   2019-01-23          한국  139,647,979,516        16,264,944   \n",
       "4  어벤져스: 엔드게임   2019-04-24          미국  122,182,694,160        13,934,592   \n",
       "\n",
       "     Rating  \n",
       "0  15세이상관람가  \n",
       "1  12세이상관람가  \n",
       "2  15세이상관람가  \n",
       "3  15세이상관람가  \n",
       "4  12세이상관람가  "
      ]
     },
     "execution_count": 355,
     "metadata": {},
     "output_type": "execute_result"
    }
   ],
   "source": [
    "col_use = ['Movie_Name', 'Release_Date', 'Nationality', 'National_Sales', 'National_Audience', 'Rating']\n",
    "dfi.export(data[col_use].head(), 'graph/kyh_d_2_colum_used.png')\n",
    "data[col_use].head()"
   ]
  },
  {
   "cell_type": "code",
   "execution_count": 356,
   "metadata": {},
   "outputs": [
    {
     "name": "stdout",
     "output_type": "stream",
     "text": [
      "(26197, 18)\n",
      "(18,)\n",
      "(6,)\n"
     ]
    },
    {
     "name": "stderr",
     "output_type": "stream",
     "text": [
      "/tmp/ipykernel_8632/3995842286.py:8: UserWarning: FixedFormatter should only be used together with FixedLocator\n",
      "  ax1.set_xticklabels(data_show.index, fontsize= 5)\n"
     ]
    },
    {
     "data": {
      "text/plain": [
       "<AxesSubplot:>"
      ]
     },
     "execution_count": 356,
     "metadata": {},
     "output_type": "execute_result"
    },
    {
     "data": {
      "image/png": "[encoded data removed]",
      "text/plain": [
       "<Figure size 1080x576 with 2 Axes>"
      ]
     },
     "metadata": {
      "needs_background": "light"
     },
     "output_type": "display_data"
    }
   ],
   "source": [
    "data_show = data.describe(include='all').loc['unique']\n",
    "data_show_use = data.describe(include='all').loc['unique', col_use]\n",
    "print(data.shape)\n",
    "print(data_show.shape)\n",
    "print(data_show_use.shape)\n",
    "\n",
    "fig, (ax1, ax2) = plt.subplots(2,figsize=(15, 8))\n",
    "ax1.set_xticklabels(data_show.index, fontsize= 5)\n",
    "sns.barplot(x = data_show.index , y = data_show.values, ax = ax1)\n",
    "sns.barplot(x = data_show_use.index , y = data_show_use.values, ax = ax2)\n"
   ]
  },
  {
   "cell_type": "markdown",
   "metadata": {},
   "source": [
    "* n개의 NULL 값을 가지는 행의 개수입니다."
   ]
  },
  {
   "cell_type": "code",
   "execution_count": 357,
   "metadata": {},
   "outputs": [
    {
     "name": "stdout",
     "output_type": "stream",
     "text": [
      "NULL 값을 가지는 행의 개수 : 25179\n",
      "NULL 값을 5개 이상 가지는 행의 개수: 238\n"
     ]
    },
    {
     "data": {
      "image/png": "[encoded data removed]",
      "text/plain": [
       "<Figure size 576x576 with 2 Axes>"
      ]
     },
     "metadata": {
      "needs_background": "light"
     },
     "output_type": "display_data"
    }
   ],
   "source": [
    "data_null = data.isnull().sum(axis = 1)\n",
    "data_null = data_null[data_null.values > 0 ]\n",
    "print(\"NULL 값을 가지는 행의 개수 :\", len(data_null))\n",
    "data_null2 = data_null[data_null.values > 4]\n",
    "print(\"NULL 값을 5개 이상 가지는 행의 개수:\", len(data_null2))\n",
    "\n",
    "fig, ax = plt.subplots(2,1,constrained_layout=True, figsize = (8,8))\n",
    "ax[0].set_title(\"NULL 값 개수별 행의 갯수\")\n",
    "sns.histplot(x=data_null.values, ax = ax[0], bins=20)\n",
    "ax[0].set_ylabel('행 개수')\n",
    "ax[1].set_title(\"NULL 값을 5개 이상 가지는 행의 갯수\")\n",
    "sns.histplot(x=data_null2.values, ax = ax[1], bins=20)\n",
    "ax[1].set_ylabel('행 개수')\n",
    "\n",
    "plt.show()"
   ]
  },
  {
   "cell_type": "markdown",
   "metadata": {},
   "source": [
    "* n개의 NULL 값을 가지는 열의 개수입니다."
   ]
  },
  {
   "cell_type": "code",
   "execution_count": 358,
   "metadata": {},
   "outputs": [
    {
     "data": {
      "text/plain": [
       "Index(['Director', 'Production_Company', 'Import_Company',\n",
       "       'Distributing_Agency', 'Release_Date', 'Movie_Form', 'Nationality',\n",
       "       'National_Sales', 'Seoul_Sales', 'Genre', 'Rating'],\n",
       "      dtype='object')"
      ]
     },
     "execution_count": 358,
     "metadata": {},
     "output_type": "execute_result"
    }
   ],
   "source": [
    "data_null = data.isnull().any()\n",
    "data_null = data_null[data_null.values == True]\n",
    "data_null_col = data_null.index\n",
    "data_null_col"
   ]
  },
  {
   "cell_type": "markdown",
   "metadata": {},
   "source": [
    "* Visualization how many columns have null values"
   ]
  },
  {
   "cell_type": "code",
   "execution_count": 359,
   "metadata": {},
   "outputs": [
    {
     "data": {
      "image/png": "[encoded data removed]",
      "text/plain": [
       "<Figure size 1080x432 with 1 Axes>"
      ]
     },
     "metadata": {
      "needs_background": "light"
     },
     "output_type": "display_data"
    }
   ],
   "source": [
    "data_null = data.isnull().sum(axis = 0)\n",
    "data_null = data_null[data_null_col]\n",
    "data_null.sort_values(ascending = False, inplace = True)\n",
    "\n",
    "fig, ax = plt.subplots(constrained_layout=True, figsize = (15,6))\n",
    "sns.barplot(x=data_null.index, y=data_null.values)\n",
    "ax.set_title(\"열에 따른 NULL 개수\")\n",
    "ax.set_xlabel(\"NULL 값을 가지는 열\")\n",
    "ax.set_ylabel(\"NULL 값 개수\")\n",
    "\n",
    "plt.show()"
   ]
  },
  {
   "cell_type": "markdown",
   "metadata": {},
   "source": [
    "1. 열의 데이터 타입별로 나눕니다.(후에 변해야할)\n",
    "   - 숫자이고 NULL 값 없음 :  \n",
    "      1. 'ID'  \n",
    "      2. 'National_number_screens'    \n",
    "      3. 'National_Audience'  \n",
    "      4. 'Seoul_Audience'  \n",
    "   - 숫자이고 NULL 값 있음 :  \n",
    "      1. 'National_Sales'  \n",
    "      2. 'Seoul_Sales'  \n",
    "   - datetime 형태로 바꾸고 year, month, day로 나눔 :  \n",
    "      * Release_date  \n",
    "   - 문자열이고 NULL 값 있음 :  \n",
    "      1. 'Director'  \n",
    "      2. 'Production_Company'  \n",
    "      3. 'Import_Company'  \n",
    "      4. 'Distributing_Agency'  \n",
    "      5. 'Moive_Form'  \n",
    "      6. 'Nationality'  \n",
    "      7. 'Genre'  \n",
    "      8. 'Rating'\n",
    "    - 문자열이고 NULL 값 없음 :  \n",
    "      1. 'Movie_Name'\n",
    "      2. 'Movie_Type'\n",
    "      3. 'Movie_Classification'"
   ]
  },
  {
   "cell_type": "markdown",
   "metadata": {},
   "source": [
    "* NULL 값을 5개 이상 가지는 행을 삭제합니다.(238)"
   ]
  },
  {
   "cell_type": "code",
   "execution_count": 360,
   "metadata": {},
   "outputs": [
    {
     "name": "stdout",
     "output_type": "stream",
     "text": [
      "Count : 238\n"
     ]
    }
   ],
   "source": [
    "data_null = data.isnull().sum(axis = 1)\n",
    "data_null = data_null[data_null.values > 4]\n",
    "print('Count :', len(data_null))\n",
    "data = data.drop(data_null.index)"
   ]
  },
  {
   "cell_type": "markdown",
   "metadata": {},
   "source": [
    "NULL 값을 가지는 숫자 열에 NULL 값을 0으로 채우고  \n",
    "type을 int로 바꿉니다."
   ]
  },
  {
   "cell_type": "code",
   "execution_count": 361,
   "metadata": {},
   "outputs": [],
   "source": [
    "num_columns_null = ['National_Sales','Seoul_Sales']\n",
    "data[num_columns_null] = data[num_columns_null].fillna('0')\n",
    "data[num_columns_null].isna().sum()\n",
    "\n",
    "num_columns = ['National_number_screens', 'National_Audience', 'National_Sales', 'Seoul_Audience','Seoul_Sales']\n",
    "for i in num_columns:\n",
    "    data[i] = data[i].str.replace(\",\",\"\").astype('int')"
   ]
  },
  {
   "cell_type": "markdown",
   "metadata": {},
   "source": [
    "'Director', 'Production_Company', 'Import_Company','Distributing_Agency', 'Movie_Form', 'Genre'  NULL 값에 No_열이름으로 채웁니다."
   ]
  },
  {
   "cell_type": "code",
   "execution_count": 362,
   "metadata": {},
   "outputs": [
    {
     "name": "stdout",
     "output_type": "stream",
     "text": [
      "Director                1475\n",
      "Production_Company     14936\n",
      "Import_Company         10344\n",
      "Distributing_Agency     6415\n",
      "Movie_Form                 5\n",
      "Genre                     91\n",
      "dtype: int64\n",
      "Director               0\n",
      "Production_Company     0\n",
      "Import_Company         0\n",
      "Distributing_Agency    0\n",
      "Movie_Form             0\n",
      "Genre                  0\n",
      "dtype: int64\n"
     ]
    }
   ],
   "source": [
    "string_columns1 = ['Director', 'Production_Company', 'Import_Company','Distributing_Agency', 'Movie_Form', 'Genre']\n",
    "print(data[string_columns1].isnull().sum())\n",
    "for i in string_columns1:\n",
    "    data[i] = data[i].fillna('No_'+ i)\n",
    "\n",
    "print(data[string_columns1].isnull().sum())"
   ]
  },
  {
   "cell_type": "markdown",
   "metadata": {},
   "source": [
    "Nationality 열의 NULL 값을 직접 찾아서 채웁니다."
   ]
  },
  {
   "cell_type": "code",
   "execution_count": 363,
   "metadata": {},
   "outputs": [
    {
     "name": "stderr",
     "output_type": "stream",
     "text": [
      "[0728/210610.317500:WARNING:sandbox_linux.cc(376)] InitializeSandbox() called with multiple threads in process gpu-process.\n",
      "[0728/210610.331004:WARNING:bluez_dbus_manager.cc(247)] Floss manager not present, cannot set Floss enable/disable.\n",
      "[0728/210610.471694:INFO:headless_shell.cc(660)] Written to file /tmp/tmp74zndi35/temp.png.\n",
      "[0728/210610.608470:WARNING:sandbox_linux.cc(376)] InitializeSandbox() called with multiple threads in process gpu-process.\n",
      "[0728/210610.621825:WARNING:bluez_dbus_manager.cc(247)] Floss manager not present, cannot set Floss enable/disable.\n",
      "[0728/210610.781608:INFO:headless_shell.cc(660)] Written to file /tmp/tmplexl7v56/temp.png.\n",
      "[0728/210610.934804:WARNING:sandbox_linux.cc(376)] InitializeSandbox() called with multiple threads in process gpu-process.\n",
      "[0728/210610.948500:WARNING:bluez_dbus_manager.cc(247)] Floss manager not present, cannot set Floss enable/disable.\n",
      "[0728/210611.153920:INFO:headless_shell.cc(660)] Written to file /tmp/tmpwwi0qjb8/temp.png.\n"
     ]
    },
    {
     "data": {
      "text/html": [
       "<div>\n",
       "<style scoped>\n",
       "    .dataframe tbody tr th:only-of-type {\n",
       "        vertical-align: middle;\n",
       "    }\n",
       "\n",
       "    .dataframe tbody tr th {\n",
       "        vertical-align: top;\n",
       "    }\n",
       "\n",
       "    .dataframe thead th {\n",
       "        text-align: right;\n",
       "    }\n",
       "</style>\n",
       "<table border=\"1\" class=\"dataframe\">\n",
       "  <thead>\n",
       "    <tr style=\"text-align: right;\">\n",
       "      <th></th>\n",
       "      <th>ID</th>\n",
       "      <th>Movie_Name</th>\n",
       "      <th>Director</th>\n",
       "      <th>Production_Company</th>\n",
       "      <th>Import_Company</th>\n",
       "      <th>Distributing_Agency</th>\n",
       "      <th>Release_Date</th>\n",
       "      <th>Movie_Type</th>\n",
       "      <th>Movie_Form</th>\n",
       "      <th>Nationality</th>\n",
       "      <th>National_number_screens</th>\n",
       "      <th>National_Sales</th>\n",
       "      <th>National_Audience</th>\n",
       "      <th>Seoul_Sales</th>\n",
       "      <th>Seoul_Audience</th>\n",
       "      <th>Genre</th>\n",
       "      <th>Rating</th>\n",
       "      <th>Movie_Classification</th>\n",
       "    </tr>\n",
       "  </thead>\n",
       "  <tbody>\n",
       "    <tr>\n",
       "      <th>3805</th>\n",
       "      <td>3806</td>\n",
       "      <td>필사의 탈출</td>\n",
       "      <td>러스 메이버리</td>\n",
       "      <td>No_Production_Company</td>\n",
       "      <td>연방영화(주)</td>\n",
       "      <td>No_Distributing_Agency</td>\n",
       "      <td>1976-03-20</td>\n",
       "      <td>개봉영화</td>\n",
       "      <td>장편</td>\n",
       "      <td>NaN</td>\n",
       "      <td>0</td>\n",
       "      <td>0</td>\n",
       "      <td>0</td>\n",
       "      <td>0</td>\n",
       "      <td>63727</td>\n",
       "      <td>드라마</td>\n",
       "      <td>NaN</td>\n",
       "      <td>일반영화</td>\n",
       "    </tr>\n",
       "    <tr>\n",
       "      <th>6802</th>\n",
       "      <td>6803</td>\n",
       "      <td>신촉산</td>\n",
       "      <td>서극</td>\n",
       "      <td>No_Production_Company</td>\n",
       "      <td>(주)건화상사</td>\n",
       "      <td>No_Distributing_Agency</td>\n",
       "      <td>1983-04-23</td>\n",
       "      <td>개봉영화</td>\n",
       "      <td>단편</td>\n",
       "      <td>NaN</td>\n",
       "      <td>0</td>\n",
       "      <td>0</td>\n",
       "      <td>0</td>\n",
       "      <td>0</td>\n",
       "      <td>16422</td>\n",
       "      <td>액션</td>\n",
       "      <td>NaN</td>\n",
       "      <td>일반영화</td>\n",
       "    </tr>\n",
       "  </tbody>\n",
       "</table>\n",
       "</div>"
      ],
      "text/plain": [
       "        ID Movie_Name Director     Production_Company Import_Company  \\\n",
       "3805  3806     필사의 탈출  러스 메이버리  No_Production_Company        연방영화(주)   \n",
       "6802  6803        신촉산       서극  No_Production_Company        (주)건화상사   \n",
       "\n",
       "         Distributing_Agency Release_Date Movie_Type Movie_Form Nationality  \\\n",
       "3805  No_Distributing_Agency   1976-03-20       개봉영화         장편         NaN   \n",
       "6802  No_Distributing_Agency   1983-04-23       개봉영화         단편         NaN   \n",
       "\n",
       "      National_number_screens  National_Sales  National_Audience  Seoul_Sales  \\\n",
       "3805                        0               0                  0            0   \n",
       "6802                        0               0                  0            0   \n",
       "\n",
       "      Seoul_Audience Genre Rating Movie_Classification  \n",
       "3805           63727   드라마    NaN                 일반영화  \n",
       "6802           16422    액션    NaN                 일반영화  "
      ]
     },
     "execution_count": 363,
     "metadata": {},
     "output_type": "execute_result"
    }
   ],
   "source": [
    "dfi.export(data[data['Nationality'].isnull()], 'graph/kyh_d_3_Nationality_null_before.png')\n",
    "data[data['Nationality'].isnull()]"
   ]
  },
  {
   "cell_type": "markdown",
   "metadata": {},
   "source": [
    "* 필사의 탈출 : 미국  \n",
    "* 신촉산 : 홍콩   \n",
    "열 안에 해당값들이 이미 있는지 확인합니다."
   ]
  },
  {
   "cell_type": "code",
   "execution_count": 364,
   "metadata": {},
   "outputs": [
    {
     "name": "stdout",
     "output_type": "stream",
     "text": [
      "True\n",
      "True\n"
     ]
    }
   ],
   "source": [
    "Nationality_columns = ['미국','홍콩']\n",
    "for i in Nationality_columns:\n",
    "    print(i in set(data['Nationality']))"
   ]
  },
  {
   "cell_type": "markdown",
   "metadata": {},
   "source": [
    "모든 값이 이미 열에 있으니 각각의 행에 추가합니다."
   ]
  },
  {
   "cell_type": "code",
   "execution_count": 365,
   "metadata": {},
   "outputs": [
    {
     "name": "stderr",
     "output_type": "stream",
     "text": [
      "[0728/210611.529034:WARNING:sandbox_linux.cc(376)] InitializeSandbox() called with multiple threads in process gpu-process.\n",
      "[0728/210611.543034:WARNING:bluez_dbus_manager.cc(247)] Floss manager not present, cannot set Floss enable/disable.\n",
      "[0728/210611.670116:INFO:headless_shell.cc(660)] Written to file /tmp/tmpijhlgkze/temp.png.\n",
      "[0728/210611.799815:WARNING:sandbox_linux.cc(376)] InitializeSandbox() called with multiple threads in process gpu-process.\n",
      "[0728/210611.813716:WARNING:bluez_dbus_manager.cc(247)] Floss manager not present, cannot set Floss enable/disable.\n",
      "[0728/210611.979914:INFO:headless_shell.cc(660)] Written to file /tmp/tmpyis_rqsz/temp.png.\n",
      "[0728/210612.137061:WARNING:sandbox_linux.cc(376)] InitializeSandbox() called with multiple threads in process gpu-process.\n",
      "[0728/210612.150940:WARNING:bluez_dbus_manager.cc(247)] Floss manager not present, cannot set Floss enable/disable.\n",
      "[0728/210612.369367:INFO:headless_shell.cc(660)] Written to file /tmp/tmpssomvgls/temp.png.\n"
     ]
    },
    {
     "data": {
      "text/html": [
       "<div>\n",
       "<style scoped>\n",
       "    .dataframe tbody tr th:only-of-type {\n",
       "        vertical-align: middle;\n",
       "    }\n",
       "\n",
       "    .dataframe tbody tr th {\n",
       "        vertical-align: top;\n",
       "    }\n",
       "\n",
       "    .dataframe thead th {\n",
       "        text-align: right;\n",
       "    }\n",
       "</style>\n",
       "<table border=\"1\" class=\"dataframe\">\n",
       "  <thead>\n",
       "    <tr style=\"text-align: right;\">\n",
       "      <th></th>\n",
       "      <th>ID</th>\n",
       "      <th>Movie_Name</th>\n",
       "      <th>Director</th>\n",
       "      <th>Production_Company</th>\n",
       "      <th>Import_Company</th>\n",
       "      <th>Distributing_Agency</th>\n",
       "      <th>Release_Date</th>\n",
       "      <th>Movie_Type</th>\n",
       "      <th>Movie_Form</th>\n",
       "      <th>Nationality</th>\n",
       "      <th>National_number_screens</th>\n",
       "      <th>National_Sales</th>\n",
       "      <th>National_Audience</th>\n",
       "      <th>Seoul_Sales</th>\n",
       "      <th>Seoul_Audience</th>\n",
       "      <th>Genre</th>\n",
       "      <th>Rating</th>\n",
       "      <th>Movie_Classification</th>\n",
       "    </tr>\n",
       "  </thead>\n",
       "  <tbody>\n",
       "    <tr>\n",
       "      <th>3805</th>\n",
       "      <td>3806</td>\n",
       "      <td>필사의 탈출</td>\n",
       "      <td>러스 메이버리</td>\n",
       "      <td>No_Production_Company</td>\n",
       "      <td>연방영화(주)</td>\n",
       "      <td>No_Distributing_Agency</td>\n",
       "      <td>1976-03-20</td>\n",
       "      <td>개봉영화</td>\n",
       "      <td>장편</td>\n",
       "      <td>미국</td>\n",
       "      <td>0</td>\n",
       "      <td>0</td>\n",
       "      <td>0</td>\n",
       "      <td>0</td>\n",
       "      <td>63727</td>\n",
       "      <td>드라마</td>\n",
       "      <td>NaN</td>\n",
       "      <td>일반영화</td>\n",
       "    </tr>\n",
       "    <tr>\n",
       "      <th>6802</th>\n",
       "      <td>6803</td>\n",
       "      <td>신촉산</td>\n",
       "      <td>서극</td>\n",
       "      <td>No_Production_Company</td>\n",
       "      <td>(주)건화상사</td>\n",
       "      <td>No_Distributing_Agency</td>\n",
       "      <td>1983-04-23</td>\n",
       "      <td>개봉영화</td>\n",
       "      <td>단편</td>\n",
       "      <td>홍콩</td>\n",
       "      <td>0</td>\n",
       "      <td>0</td>\n",
       "      <td>0</td>\n",
       "      <td>0</td>\n",
       "      <td>16422</td>\n",
       "      <td>액션</td>\n",
       "      <td>NaN</td>\n",
       "      <td>일반영화</td>\n",
       "    </tr>\n",
       "  </tbody>\n",
       "</table>\n",
       "</div>"
      ],
      "text/plain": [
       "        ID Movie_Name Director     Production_Company Import_Company  \\\n",
       "3805  3806     필사의 탈출  러스 메이버리  No_Production_Company        연방영화(주)   \n",
       "6802  6803        신촉산       서극  No_Production_Company        (주)건화상사   \n",
       "\n",
       "         Distributing_Agency Release_Date Movie_Type Movie_Form Nationality  \\\n",
       "3805  No_Distributing_Agency   1976-03-20       개봉영화         장편          미국   \n",
       "6802  No_Distributing_Agency   1983-04-23       개봉영화         단편          홍콩   \n",
       "\n",
       "      National_number_screens  National_Sales  National_Audience  Seoul_Sales  \\\n",
       "3805                        0               0                  0            0   \n",
       "6802                        0               0                  0            0   \n",
       "\n",
       "      Seoul_Audience Genre Rating Movie_Classification  \n",
       "3805           63727   드라마    NaN                 일반영화  \n",
       "6802           16422    액션    NaN                 일반영화  "
      ]
     },
     "execution_count": 365,
     "metadata": {},
     "output_type": "execute_result"
    }
   ],
   "source": [
    "data.loc[3805 , 'Nationality' ] = '미국'\n",
    "data.loc[6802 , 'Nationality' ] = '홍콩'\n",
    "dfi.export(data.loc[[3805, 6802]], 'graph/kyh_d_4_Nationality_null_after.png')\n",
    "data.loc[[3805, 6802]]"
   ]
  },
  {
   "cell_type": "markdown",
   "metadata": {},
   "source": [
    "Rating 열에 있는 NULL값을 제거하기 위해  \n",
    "분류가 되어있는 새로운 csv 파일을 만듭니다."
   ]
  },
  {
   "cell_type": "code",
   "execution_count": 366,
   "metadata": {},
   "outputs": [
    {
     "name": "stdout",
     "output_type": "stream",
     "text": [
      "(55, 2)\n",
      "{'ETC', 'X', '18', 'ALL', '12', '15'}\n"
     ]
    },
    {
     "name": "stderr",
     "output_type": "stream",
     "text": [
      "[0728/210612.626581:WARNING:sandbox_linux.cc(376)] InitializeSandbox() called with multiple threads in process gpu-process.\n",
      "[0728/210612.634001:WARNING:bluez_dbus_manager.cc(247)] Floss manager not present, cannot set Floss enable/disable.\n",
      "[0728/210612.776050:INFO:headless_shell.cc(660)] Written to file /tmp/tmpfmrfluj9/temp.png.\n",
      "[0728/210612.923131:WARNING:sandbox_linux.cc(376)] InitializeSandbox() called with multiple threads in process gpu-process.\n",
      "[0728/210612.938081:WARNING:bluez_dbus_manager.cc(247)] Floss manager not present, cannot set Floss enable/disable.\n",
      "[0728/210613.068221:INFO:headless_shell.cc(660)] Written to file /tmp/tmpyxgy2ibf/temp.png.\n"
     ]
    },
    {
     "data": {
      "text/html": [
       "<div>\n",
       "<style scoped>\n",
       "    .dataframe tbody tr th:only-of-type {\n",
       "        vertical-align: middle;\n",
       "    }\n",
       "\n",
       "    .dataframe tbody tr th {\n",
       "        vertical-align: top;\n",
       "    }\n",
       "\n",
       "    .dataframe thead th {\n",
       "        text-align: right;\n",
       "    }\n",
       "</style>\n",
       "<table border=\"1\" class=\"dataframe\">\n",
       "  <thead>\n",
       "    <tr style=\"text-align: right;\">\n",
       "      <th></th>\n",
       "      <th>Rating</th>\n",
       "      <th>score</th>\n",
       "    </tr>\n",
       "  </thead>\n",
       "  <tbody>\n",
       "    <tr>\n",
       "      <th>0</th>\n",
       "      <td>12세 미만인 자는 관람할 수 없는 등급</td>\n",
       "      <td>12</td>\n",
       "    </tr>\n",
       "    <tr>\n",
       "      <th>1</th>\n",
       "      <td>12세관람가</td>\n",
       "      <td>12</td>\n",
       "    </tr>\n",
       "    <tr>\n",
       "      <th>2</th>\n",
       "      <td>12세이상관람가</td>\n",
       "      <td>12</td>\n",
       "    </tr>\n",
       "    <tr>\n",
       "      <th>3</th>\n",
       "      <td>12세이상관람가,12세관람가</td>\n",
       "      <td>12</td>\n",
       "    </tr>\n",
       "    <tr>\n",
       "      <th>4</th>\n",
       "      <td>12세이상관람가,15세 미만인 자는 관람할 수 없는 등급</td>\n",
       "      <td>15</td>\n",
       "    </tr>\n",
       "  </tbody>\n",
       "</table>\n",
       "</div>"
      ],
      "text/plain": [
       "                            Rating score\n",
       "0           12세 미만인 자는 관람할 수 없는 등급    12\n",
       "1                           12세관람가    12\n",
       "2                         12세이상관람가    12\n",
       "3                  12세이상관람가,12세관람가    12\n",
       "4  12세이상관람가,15세 미만인 자는 관람할 수 없는 등급    15"
      ]
     },
     "execution_count": 366,
     "metadata": {},
     "output_type": "execute_result"
    }
   ],
   "source": [
    "df_Rating = pd.read_csv('Rating.csv')\n",
    "print(df_Rating.shape)\n",
    "print(set(df_Rating['score']))\n",
    "\n",
    "dfi.export(data[['Rating']].head(), 'graph/kyh_d_5_Rating_before.png')\n",
    "dfi.export(df_Rating.head(), 'graph/kyh_d_6_Rating_newCSV.png')\n",
    "df_Rating.head()"
   ]
  },
  {
   "cell_type": "markdown",
   "metadata": {},
   "source": [
    "'Rating' 열의 값을 새로운 csv 파일과 연계하여 바꿉니다.  \n",
    "NULL 값은 'ETC'로 바꿉니다."
   ]
  },
  {
   "cell_type": "code",
   "execution_count": 367,
   "metadata": {},
   "outputs": [
    {
     "name": "stderr",
     "output_type": "stream",
     "text": [
      "[0728/210613.920353:WARNING:sandbox_linux.cc(376)] InitializeSandbox() called with multiple threads in process gpu-process.\n",
      "[0728/210613.929600:WARNING:bluez_dbus_manager.cc(247)] Floss manager not present, cannot set Floss enable/disable.\n",
      "[0728/210614.054570:INFO:headless_shell.cc(660)] Written to file /tmp/tmpspogzwe7/temp.png.\n"
     ]
    },
    {
     "data": {
      "text/html": [
       "<div>\n",
       "<style scoped>\n",
       "    .dataframe tbody tr th:only-of-type {\n",
       "        vertical-align: middle;\n",
       "    }\n",
       "\n",
       "    .dataframe tbody tr th {\n",
       "        vertical-align: top;\n",
       "    }\n",
       "\n",
       "    .dataframe thead th {\n",
       "        text-align: right;\n",
       "    }\n",
       "</style>\n",
       "<table border=\"1\" class=\"dataframe\">\n",
       "  <thead>\n",
       "    <tr style=\"text-align: right;\">\n",
       "      <th></th>\n",
       "      <th>Rating</th>\n",
       "    </tr>\n",
       "  </thead>\n",
       "  <tbody>\n",
       "    <tr>\n",
       "      <th>0</th>\n",
       "      <td>15</td>\n",
       "    </tr>\n",
       "    <tr>\n",
       "      <th>1</th>\n",
       "      <td>12</td>\n",
       "    </tr>\n",
       "    <tr>\n",
       "      <th>2</th>\n",
       "      <td>15</td>\n",
       "    </tr>\n",
       "    <tr>\n",
       "      <th>3</th>\n",
       "      <td>15</td>\n",
       "    </tr>\n",
       "    <tr>\n",
       "      <th>4</th>\n",
       "      <td>12</td>\n",
       "    </tr>\n",
       "  </tbody>\n",
       "</table>\n",
       "</div>"
      ],
      "text/plain": [
       "  Rating\n",
       "0     15\n",
       "1     12\n",
       "2     15\n",
       "3     15\n",
       "4     12"
      ]
     },
     "execution_count": 367,
     "metadata": {},
     "output_type": "execute_result"
    }
   ],
   "source": [
    "for i in range(len(df_Rating)):\n",
    "    data.replace(df_Rating['Rating'][i], df_Rating['score'][i], inplace = True)\n",
    "    # print(df_Rating['Rating'][i], df_Rating['score'][i])\n",
    "\n",
    "# data['Rating']\n",
    "data['Rating'].fillna('ETC', inplace = True)\n",
    "\n",
    "set(data['Rating'])\n",
    "\n",
    "dfi.export(data[['Rating']].head(), 'graph/kyh_d_7_Rating_after.png')\n",
    "\n",
    "data[['Rating']].head()"
   ]
  },
  {
   "cell_type": "markdown",
   "metadata": {},
   "source": [
    "'Release Date' 열을 datatime 형태로 변환하고  \n",
    "year, month, day를 뽑아냅니다."
   ]
  },
  {
   "cell_type": "code",
   "execution_count": 368,
   "metadata": {},
   "outputs": [
    {
     "name": "stderr",
     "output_type": "stream",
     "text": [
      "[0728/210614.281684:WARNING:sandbox_linux.cc(376)] InitializeSandbox() called with multiple threads in process gpu-process.\n",
      "[0728/210614.298465:WARNING:bluez_dbus_manager.cc(247)] Floss manager not present, cannot set Floss enable/disable.\n",
      "[0728/210614.423561:INFO:headless_shell.cc(660)] Written to file /tmp/tmpf1dnzepl/temp.png.\n"
     ]
    },
    {
     "data": {
      "text/html": [
       "<div>\n",
       "<style scoped>\n",
       "    .dataframe tbody tr th:only-of-type {\n",
       "        vertical-align: middle;\n",
       "    }\n",
       "\n",
       "    .dataframe tbody tr th {\n",
       "        vertical-align: top;\n",
       "    }\n",
       "\n",
       "    .dataframe thead th {\n",
       "        text-align: right;\n",
       "    }\n",
       "</style>\n",
       "<table border=\"1\" class=\"dataframe\">\n",
       "  <thead>\n",
       "    <tr style=\"text-align: right;\">\n",
       "      <th></th>\n",
       "      <th>Release_Date</th>\n",
       "      <th>year</th>\n",
       "      <th>month</th>\n",
       "      <th>day</th>\n",
       "    </tr>\n",
       "  </thead>\n",
       "  <tbody>\n",
       "    <tr>\n",
       "      <th>0</th>\n",
       "      <td>2014-07-30</td>\n",
       "      <td>2014.0</td>\n",
       "      <td>7.0</td>\n",
       "      <td>30.0</td>\n",
       "    </tr>\n",
       "    <tr>\n",
       "      <th>1</th>\n",
       "      <td>2009-12-17</td>\n",
       "      <td>2009.0</td>\n",
       "      <td>12.0</td>\n",
       "      <td>17.0</td>\n",
       "    </tr>\n",
       "    <tr>\n",
       "      <th>2</th>\n",
       "      <td>2005-12-29</td>\n",
       "      <td>2005.0</td>\n",
       "      <td>12.0</td>\n",
       "      <td>29.0</td>\n",
       "    </tr>\n",
       "    <tr>\n",
       "      <th>3</th>\n",
       "      <td>2019-01-23</td>\n",
       "      <td>2019.0</td>\n",
       "      <td>1.0</td>\n",
       "      <td>23.0</td>\n",
       "    </tr>\n",
       "    <tr>\n",
       "      <th>4</th>\n",
       "      <td>2019-04-24</td>\n",
       "      <td>2019.0</td>\n",
       "      <td>4.0</td>\n",
       "      <td>24.0</td>\n",
       "    </tr>\n",
       "  </tbody>\n",
       "</table>\n",
       "</div>"
      ],
      "text/plain": [
       "  Release_Date    year  month   day\n",
       "0   2014-07-30  2014.0    7.0  30.0\n",
       "1   2009-12-17  2009.0   12.0  17.0\n",
       "2   2005-12-29  2005.0   12.0  29.0\n",
       "3   2019-01-23  2019.0    1.0  23.0\n",
       "4   2019-04-24  2019.0    4.0  24.0"
      ]
     },
     "execution_count": 368,
     "metadata": {},
     "output_type": "execute_result"
    }
   ],
   "source": [
    "import datetime\n",
    "\n",
    "data['Release_Date'] = pd.to_datetime(data['Release_Date'], format = \"%Y-%m-%d\")\n",
    "\n",
    "data['Release_Date'].dt.year\n",
    "data['year'] = data['Release_Date'].dt.year\n",
    "\n",
    "data['Release_Date'].dt.month\n",
    "data['month'] = data['Release_Date'].dt.month\n",
    "\n",
    "data['Release_Date'].dt.day\n",
    "data['day'] = data['Release_Date'].dt.day\n",
    "\n",
    "data['year'] = data['year'].fillna(0)\n",
    "data['year'].isna().sum()\n",
    "\n",
    "data['month'] = data['month'].fillna(0)\n",
    "data['month'].isna().sum()\n",
    "\n",
    "data['day'] = data['day'].fillna(0)\n",
    "data['day'].isna().sum()\n",
    "\n",
    "dfi.export(data[['Release_Date','year','month','day']].head(), 'graph/kyh_d_8_dattime.png')\n",
    "data[['Release_Date','year','month','day']].head()"
   ]
  },
  {
   "cell_type": "markdown",
   "metadata": {},
   "source": [
    "Release_Date는 이미 분리 했으므로 Data에서 삭제하겠습니다.  \n",
    "이제 NULL 값이 열마다 몇개 있는지  출력해봅시다."
   ]
  },
  {
   "cell_type": "code",
   "execution_count": 369,
   "metadata": {},
   "outputs": [
    {
     "name": "stderr",
     "output_type": "stream",
     "text": [
      "/home/aiffel/.local/lib/python3.10/site-packages/IPython/core/pylabtools.py:151: UserWarning: Glyph 8722 (\\N{MINUS SIGN}) missing from current font.\n",
      "  fig.canvas.print_figure(bytes_io, **kw)\n"
     ]
    },
    {
     "data": {
      "image/png": "[encoded data removed]",
      "text/plain": [
       "<Figure size 1440x432 with 1 Axes>"
      ]
     },
     "metadata": {
      "needs_background": "light"
     },
     "output_type": "display_data"
    },
    {
     "data": {
      "text/plain": [
       "ID                         0\n",
       "Movie_Name                 0\n",
       "Director                   0\n",
       "Production_Company         0\n",
       "Import_Company             0\n",
       "Distributing_Agency        0\n",
       "Movie_Type                 0\n",
       "Movie_Form                 0\n",
       "Nationality                0\n",
       "National_number_screens    0\n",
       "National_Sales             0\n",
       "National_Audience          0\n",
       "Seoul_Sales                0\n",
       "Seoul_Audience             0\n",
       "Genre                      0\n",
       "Rating                     0\n",
       "Movie_Classification       0\n",
       "year                       0\n",
       "month                      0\n",
       "day                        0\n",
       "dtype: int64"
      ]
     },
     "execution_count": 369,
     "metadata": {},
     "output_type": "execute_result"
    }
   ],
   "source": [
    "data.drop('Release_Date', axis = 1, inplace = True)\n",
    "data_null = data.isnull().sum(axis = 0)\n",
    "\n",
    "fig, ax = plt.subplots(constrained_layout=True, figsize = (20,6))\n",
    "sns.barplot(x=data_null.index, y=data_null.values)\n",
    "plt.show()\n",
    "\n",
    "data_null"
   ]
  },
  {
   "cell_type": "markdown",
   "metadata": {},
   "source": [
    "이제 저희 데이터에는 결측값이 없습니다.  \n",
    "이제 저희가 자주 사용할 열의 이상치가 있는지 확인해 봅시다.\n",
    "c자주 사용하는 열은\n",
    "['Movie_Name', 'Release_Date', 'Nationality', 'National_Sales', 'National_Audience', 'Rating']\n"
   ]
  },
  {
   "cell_type": "markdown",
   "metadata": {},
   "source": [
    "숫자 열들의 이상치로 보이는 0인 경우를 봅시다."
   ]
  },
  {
   "cell_type": "code",
   "execution_count": 370,
   "metadata": {},
   "outputs": [
    {
     "name": "stdout",
     "output_type": "stream",
     "text": [
      "(25959, 20)\n",
      "0 values\n",
      "National_Audience : 7149\n",
      "National_Sales : 8689\n",
      "Seoul_Audience : 6644\n",
      "Seoul_Sales : 15221\n"
     ]
    }
   ],
   "source": [
    "# col_use = ['Movie_Name', 'Release_Date', 'Nationality', 'National_Sales', 'National_Audience', 'Rating']\n",
    "\n",
    "from collections import Counter\n",
    "\n",
    "num_columns = ['National_Audience', 'National_Sales', 'Seoul_Audience','Seoul_Sales']\n",
    "\n",
    "print(data.shape)\n",
    "\n",
    "test = []\n",
    "columns_0_count  = pd.DataFrame()\n",
    "columns_0_count['column_name'] = num_columns\n",
    "\n",
    "print(\"0 values\")\n",
    "for i in num_columns:\n",
    "    print(i, ':' ,Counter(data[i])[0])\n",
    "    test.append(Counter(data[i])[0])\n",
    "    \n",
    "columns_0_count['count'] = test"
   ]
  },
  {
   "cell_type": "code",
   "execution_count": 371,
   "metadata": {},
   "outputs": [
    {
     "data": {
      "image/png": "[encoded data removed]",
      "text/plain": [
       "<Figure size 576x576 with 1 Axes>"
      ]
     },
     "metadata": {
      "needs_background": "light"
     },
     "output_type": "display_data"
    },
    {
     "data": {
      "text/html": [
       "<div>\n",
       "<style scoped>\n",
       "    .dataframe tbody tr th:only-of-type {\n",
       "        vertical-align: middle;\n",
       "    }\n",
       "\n",
       "    .dataframe tbody tr th {\n",
       "        vertical-align: top;\n",
       "    }\n",
       "\n",
       "    .dataframe thead th {\n",
       "        text-align: right;\n",
       "    }\n",
       "</style>\n",
       "<table border=\"1\" class=\"dataframe\">\n",
       "  <thead>\n",
       "    <tr style=\"text-align: right;\">\n",
       "      <th></th>\n",
       "      <th>column_name</th>\n",
       "      <th>count</th>\n",
       "    </tr>\n",
       "  </thead>\n",
       "  <tbody>\n",
       "    <tr>\n",
       "      <th>0</th>\n",
       "      <td>National_Audience</td>\n",
       "      <td>7149</td>\n",
       "    </tr>\n",
       "    <tr>\n",
       "      <th>1</th>\n",
       "      <td>National_Sales</td>\n",
       "      <td>8689</td>\n",
       "    </tr>\n",
       "    <tr>\n",
       "      <th>2</th>\n",
       "      <td>Seoul_Audience</td>\n",
       "      <td>6644</td>\n",
       "    </tr>\n",
       "    <tr>\n",
       "      <th>3</th>\n",
       "      <td>Seoul_Sales</td>\n",
       "      <td>15221</td>\n",
       "    </tr>\n",
       "  </tbody>\n",
       "</table>\n",
       "</div>"
      ],
      "text/plain": [
       "         column_name  count\n",
       "0  National_Audience   7149\n",
       "1     National_Sales   8689\n",
       "2     Seoul_Audience   6644\n",
       "3        Seoul_Sales  15221"
      ]
     },
     "execution_count": 371,
     "metadata": {},
     "output_type": "execute_result"
    }
   ],
   "source": [
    "fig, ax = plt.subplots(figsize=(8, 8))\n",
    "sns.barplot(x=columns_0_count['column_name'], y=columns_0_count['count'])\n",
    "plt.show()\n",
    "columns_0_count"
   ]
  },
  {
   "cell_type": "markdown",
   "metadata": {},
   "source": [
    "해당 열의 0 값이 2가지 의미를 가지고 있습니다.  \n",
    "실제로 0인지와 통계를 받지못해서 0인 경우가 있습니다.  \n",
    "해당 기준의 부재로 0을 다른 값으로 채우는 것은 힘들 것 같습니다."
   ]
  },
  {
   "cell_type": "code",
   "execution_count": 372,
   "metadata": {},
   "outputs": [
    {
     "name": "stderr",
     "output_type": "stream",
     "text": [
      "[0728/210615.057084:WARNING:sandbox_linux.cc(376)] InitializeSandbox() called with multiple threads in process gpu-process.\n",
      "[0728/210615.070536:WARNING:bluez_dbus_manager.cc(247)] Floss manager not present, cannot set Floss enable/disable.\n",
      "[0728/210615.219393:INFO:headless_shell.cc(660)] Written to file /tmp/tmp2xy6c_2a/temp.png.\n",
      "[0728/210615.375783:WARNING:sandbox_linux.cc(376)] InitializeSandbox() called with multiple threads in process gpu-process.\n",
      "[0728/210615.390955:WARNING:bluez_dbus_manager.cc(247)] Floss manager not present, cannot set Floss enable/disable.\n",
      "[0728/210615.561122:INFO:headless_shell.cc(660)] Written to file /tmp/tmpxbwtpgk_/temp.png.\n",
      "[0728/210615.683445:WARNING:sandbox_linux.cc(376)] InitializeSandbox() called with multiple threads in process gpu-process.\n",
      "[0728/210615.693817:WARNING:bluez_dbus_manager.cc(247)] Floss manager not present, cannot set Floss enable/disable.\n",
      "[0728/210615.894841:INFO:headless_shell.cc(660)] Written to file /tmp/tmpm6fuvwj6/temp.png.\n"
     ]
    },
    {
     "data": {
      "text/html": [
       "<div>\n",
       "<style scoped>\n",
       "    .dataframe tbody tr th:only-of-type {\n",
       "        vertical-align: middle;\n",
       "    }\n",
       "\n",
       "    .dataframe tbody tr th {\n",
       "        vertical-align: top;\n",
       "    }\n",
       "\n",
       "    .dataframe thead th {\n",
       "        text-align: right;\n",
       "    }\n",
       "</style>\n",
       "<table border=\"1\" class=\"dataframe\">\n",
       "  <thead>\n",
       "    <tr style=\"text-align: right;\">\n",
       "      <th></th>\n",
       "      <th>ID</th>\n",
       "      <th>Movie_Name</th>\n",
       "      <th>Director</th>\n",
       "      <th>Production_Company</th>\n",
       "      <th>Import_Company</th>\n",
       "      <th>Distributing_Agency</th>\n",
       "      <th>Movie_Type</th>\n",
       "      <th>Movie_Form</th>\n",
       "      <th>Nationality</th>\n",
       "      <th>National_number_screens</th>\n",
       "      <th>National_Sales</th>\n",
       "      <th>National_Audience</th>\n",
       "      <th>Seoul_Sales</th>\n",
       "      <th>Seoul_Audience</th>\n",
       "      <th>Genre</th>\n",
       "      <th>Rating</th>\n",
       "      <th>Movie_Classification</th>\n",
       "      <th>year</th>\n",
       "      <th>month</th>\n",
       "      <th>day</th>\n",
       "    </tr>\n",
       "  </thead>\n",
       "  <tbody>\n",
       "    <tr>\n",
       "      <th>2</th>\n",
       "      <td>3</td>\n",
       "      <td>왕의 남자</td>\n",
       "      <td>이준익</td>\n",
       "      <td>(주)씨네월드,(주)이글픽쳐스</td>\n",
       "      <td>No_Import_Company</td>\n",
       "      <td>(주)시네마서비스</td>\n",
       "      <td>개봉영화</td>\n",
       "      <td>장편</td>\n",
       "      <td>한국</td>\n",
       "      <td>0</td>\n",
       "      <td>0</td>\n",
       "      <td>12302831</td>\n",
       "      <td>0</td>\n",
       "      <td>3660842</td>\n",
       "      <td>드라마</td>\n",
       "      <td>15</td>\n",
       "      <td>일반영화</td>\n",
       "      <td>2005.0</td>\n",
       "      <td>12.0</td>\n",
       "      <td>29.0</td>\n",
       "    </tr>\n",
       "    <tr>\n",
       "      <th>19856</th>\n",
       "      <td>19857</td>\n",
       "      <td>굿 메리지</td>\n",
       "      <td>피터 아스킨</td>\n",
       "      <td>No_Production_Company</td>\n",
       "      <td>주식회사 루믹스미디어</td>\n",
       "      <td>주식회사 루믹스미디어</td>\n",
       "      <td>개봉영화</td>\n",
       "      <td>장편</td>\n",
       "      <td>미국</td>\n",
       "      <td>1</td>\n",
       "      <td>200000</td>\n",
       "      <td>40</td>\n",
       "      <td>0</td>\n",
       "      <td>0</td>\n",
       "      <td>스릴러</td>\n",
       "      <td>18</td>\n",
       "      <td>일반영화</td>\n",
       "      <td>2015.0</td>\n",
       "      <td>6.0</td>\n",
       "      <td>25.0</td>\n",
       "    </tr>\n",
       "  </tbody>\n",
       "</table>\n",
       "</div>"
      ],
      "text/plain": [
       "          ID Movie_Name Director     Production_Company     Import_Company  \\\n",
       "2          3      왕의 남자      이준익       (주)씨네월드,(주)이글픽쳐스  No_Import_Company   \n",
       "19856  19857      굿 메리지   피터 아스킨  No_Production_Company        주식회사 루믹스미디어   \n",
       "\n",
       "      Distributing_Agency Movie_Type Movie_Form Nationality  \\\n",
       "2               (주)시네마서비스       개봉영화         장편          한국   \n",
       "19856         주식회사 루믹스미디어       개봉영화         장편          미국   \n",
       "\n",
       "       National_number_screens  National_Sales  National_Audience  \\\n",
       "2                            0               0           12302831   \n",
       "19856                        1          200000                 40   \n",
       "\n",
       "       Seoul_Sales  Seoul_Audience Genre Rating Movie_Classification    year  \\\n",
       "2                0         3660842   드라마     15                 일반영화  2005.0   \n",
       "19856            0               0   스릴러     18                 일반영화  2015.0   \n",
       "\n",
       "       month   day  \n",
       "2       12.0  29.0  \n",
       "19856    6.0  25.0  "
      ]
     },
     "execution_count": 372,
     "metadata": {},
     "output_type": "execute_result"
    }
   ],
   "source": [
    "dfi.export(data.iloc[[2,19635]], 'graph/kyh_d_9_problem_0.png')\n",
    "data.iloc[[2,19635]]"
   ]
  },
  {
   "cell_type": "markdown",
   "metadata": {},
   "source": [
    "meta-data를 찾아보니 해당 데이터는 \n",
    "한국영화연감(1971~2010) 통계를 기준으로 정리한 것이며,  \n",
    "2011년부터는 통합전산망을 기준으로 일정한 주기(매월, 매년)로 마감 처리하여 산출되는 통계정보입니다라 되어있습니다. \n",
    "그래서 제대로 정리된 Data는 2011부터 입니다.  \n",
    "그래서 2011부터의 Data만 사용하기로 하겠습니다.  \n",
    "새롭게 만든 데이터에서 숫자 열의 값이 0인 것을 출력합니다."
   ]
  },
  {
   "cell_type": "code",
   "execution_count": 375,
   "metadata": {},
   "outputs": [
    {
     "name": "stdout",
     "output_type": "stream",
     "text": [
      "0 values\n",
      "National_Audience : 3\n",
      "National_Sales : 3\n",
      "Seoul_Audience : 6536\n",
      "Seoul_Sales : 6536\n"
     ]
    },
    {
     "data": {
      "image/png": "[encoded data removed]",
      "text/plain": [
       "<Figure size 576x576 with 1 Axes>"
      ]
     },
     "metadata": {
      "needs_background": "light"
     },
     "output_type": "display_data"
    },
    {
     "data": {
      "text/html": [
       "<div>\n",
       "<style scoped>\n",
       "    .dataframe tbody tr th:only-of-type {\n",
       "        vertical-align: middle;\n",
       "    }\n",
       "\n",
       "    .dataframe tbody tr th {\n",
       "        vertical-align: top;\n",
       "    }\n",
       "\n",
       "    .dataframe thead th {\n",
       "        text-align: right;\n",
       "    }\n",
       "</style>\n",
       "<table border=\"1\" class=\"dataframe\">\n",
       "  <thead>\n",
       "    <tr style=\"text-align: right;\">\n",
       "      <th></th>\n",
       "      <th>column_name</th>\n",
       "      <th>count</th>\n",
       "    </tr>\n",
       "  </thead>\n",
       "  <tbody>\n",
       "    <tr>\n",
       "      <th>0</th>\n",
       "      <td>National_Audience</td>\n",
       "      <td>3</td>\n",
       "    </tr>\n",
       "    <tr>\n",
       "      <th>1</th>\n",
       "      <td>National_Sales</td>\n",
       "      <td>3</td>\n",
       "    </tr>\n",
       "    <tr>\n",
       "      <th>2</th>\n",
       "      <td>Seoul_Audience</td>\n",
       "      <td>6536</td>\n",
       "    </tr>\n",
       "    <tr>\n",
       "      <th>3</th>\n",
       "      <td>Seoul_Sales</td>\n",
       "      <td>6536</td>\n",
       "    </tr>\n",
       "  </tbody>\n",
       "</table>\n",
       "</div>"
      ],
      "text/plain": [
       "         column_name  count\n",
       "0  National_Audience      3\n",
       "1     National_Sales      3\n",
       "2     Seoul_Audience   6536\n",
       "3        Seoul_Sales   6536"
      ]
     },
     "execution_count": 375,
     "metadata": {},
     "output_type": "execute_result"
    }
   ],
   "source": [
    "test = []\n",
    "columns_0_count  = pd.DataFrame()\n",
    "columns_0_count['column_name'] = num_columns\n",
    "\n",
    "print(\"0 values\")\n",
    "for i in num_columns:\n",
    "    print(i, ':' ,Counter(data[i])[0])\n",
    "    test.append(Counter(data[i])[0])\n",
    "    \n",
    "columns_0_count['count'] = test\n",
    "\n",
    "fig, ax = plt.subplots(figsize=(8, 8))\n",
    "sns.barplot(x=columns_0_count['column_name'], y=columns_0_count['count'])\n",
    "plt.show()\n",
    "columns_0_count"
   ]
  },
  {
   "cell_type": "code",
   "execution_count": 393,
   "metadata": {},
   "outputs": [
    {
     "data": {
      "text/html": [
       "<div>\n",
       "<style scoped>\n",
       "    .dataframe tbody tr th:only-of-type {\n",
       "        vertical-align: middle;\n",
       "    }\n",
       "\n",
       "    .dataframe tbody tr th {\n",
       "        vertical-align: top;\n",
       "    }\n",
       "\n",
       "    .dataframe thead th {\n",
       "        text-align: right;\n",
       "    }\n",
       "</style>\n",
       "<table border=\"1\" class=\"dataframe\">\n",
       "  <thead>\n",
       "    <tr style=\"text-align: right;\">\n",
       "      <th></th>\n",
       "      <th>ID</th>\n",
       "      <th>Movie_Name</th>\n",
       "      <th>Director</th>\n",
       "      <th>Production_Company</th>\n",
       "      <th>Import_Company</th>\n",
       "      <th>Distributing_Agency</th>\n",
       "      <th>Movie_Type</th>\n",
       "      <th>Movie_Form</th>\n",
       "      <th>Nationality</th>\n",
       "      <th>National_number_screens</th>\n",
       "      <th>National_Sales</th>\n",
       "      <th>National_Audience</th>\n",
       "      <th>Seoul_Sales</th>\n",
       "      <th>Seoul_Audience</th>\n",
       "      <th>Genre</th>\n",
       "      <th>Rating</th>\n",
       "      <th>Movie_Classification</th>\n",
       "      <th>year</th>\n",
       "      <th>month</th>\n",
       "      <th>day</th>\n",
       "    </tr>\n",
       "  </thead>\n",
       "  <tbody>\n",
       "  </tbody>\n",
       "</table>\n",
       "</div>"
      ],
      "text/plain": [
       "Empty DataFrame\n",
       "Columns: [ID, Movie_Name, Director, Production_Company, Import_Company, Distributing_Agency, Movie_Type, Movie_Form, Nationality, National_number_screens, National_Sales, National_Audience, Seoul_Sales, Seoul_Audience, Genre, Rating, Movie_Classification, year, month, day]\n",
       "Index: []"
      ]
     },
     "execution_count": 393,
     "metadata": {},
     "output_type": "execute_result"
    }
   ],
   "source": [
    "data[data.duplicated(['Movie_Name', 'year','month','day']) == True]"
   ]
  },
  {
   "cell_type": "markdown",
   "metadata": {},
   "source": [
    "영화제목은 같은 영화가 2번 기입된 경우는 없습니다."
   ]
  },
  {
   "cell_type": "markdown",
   "metadata": {},
   "source": [
    "## 3. 시각화"
   ]
  }
 ],
 "metadata": {
  "kernelspec": {
   "display_name": "Python 3.10.4 64-bit",
   "language": "python",
   "name": "python3"
  },
  "language_info": {
   "codemirror_mode": {
    "name": "ipython",
    "version": 3
   },
   "file_extension": ".py",
   "mimetype": "text/x-python",
   "name": "python",
   "nbconvert_exporter": "python",
   "pygments_lexer": "ipython3",
   "version": "3.10.4"
  },
  "orig_nbformat": 4,
  "vscode": {
   "interpreter": {
    "hash": "916dbcbb3f70747c44a77c7bcd40155683ae19c65e1c03b4aa3499c5328201f1"
   }
  }
 },
 "nbformat": 4,
 "nbformat_minor": 2
}
