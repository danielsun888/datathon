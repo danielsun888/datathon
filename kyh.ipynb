{
 "cells": [
  {
   "cell_type": "markdown",
   "metadata": {},
   "source": [
    "# Dataton Aiffel\n",
    "* Group : EagleAI\n",
    "* Dataset : 영화관 입장권 통합 전산망\n",
    "* Name : 김용훈(Kim yonghun)"
   ]
  },
  {
   "cell_type": "markdown",
   "metadata": {},
   "source": [
    "## Contents"
   ]
  },
  {
   "cell_type": "markdown",
   "metadata": {},
   "source": [
    "1. Import libraries & load dataset\n",
    "2. Data PDA\n",
    "3. Data preprocessing\n",
    "4. Visualization of first idea"
   ]
  },
  {
   "cell_type": "markdown",
   "metadata": {},
   "source": [
    "## 1. Import libraries & load dataset"
   ]
  },
  {
   "cell_type": "markdown",
   "metadata": {},
   "source": [
    "* if want to show korean on matplotlib, command annotation lines on termianl \n",
    "* set kor font in matplotlib using 'rc' function (나눔 고딕)"
   ]
  },
  {
   "cell_type": "code",
   "execution_count": 10,
   "metadata": {},
   "outputs": [],
   "source": [
    "import pandas as pd\n",
    "import numpy as np\n",
    "import matplotlib.pyplot as plt\n",
    "import seaborn as sns\n",
    "\n",
    "# !sudo apt-get install -y fonts-nanum\n",
    "# !sudo fc-cache -fv\n",
    "# !rm ~/.cache/matplotlib -rf\n",
    "\n",
    "plt.rc('font', family='NanumBarunGothic')"
   ]
  },
  {
   "cell_type": "markdown",
   "metadata": {},
   "source": [
    "* load dataset\n",
    "* show dataset shape and head"
   ]
  },
  {
   "cell_type": "code",
   "execution_count": 11,
   "metadata": {},
   "outputs": [
    {
     "name": "stdout",
     "output_type": "stream",
     "text": [
      "(26197, 18)\n"
     ]
    },
    {
     "data": {
      "text/html": [
       "<div>\n",
       "<style scoped>\n",
       "    .dataframe tbody tr th:only-of-type {\n",
       "        vertical-align: middle;\n",
       "    }\n",
       "\n",
       "    .dataframe tbody tr th {\n",
       "        vertical-align: top;\n",
       "    }\n",
       "\n",
       "    .dataframe thead th {\n",
       "        text-align: right;\n",
       "    }\n",
       "</style>\n",
       "<table border=\"1\" class=\"dataframe\">\n",
       "  <thead>\n",
       "    <tr style=\"text-align: right;\">\n",
       "      <th></th>\n",
       "      <th>ID</th>\n",
       "      <th>Movie_Name</th>\n",
       "      <th>Director</th>\n",
       "      <th>Production_Company</th>\n",
       "      <th>Import_Company</th>\n",
       "      <th>Distributing_Agency</th>\n",
       "      <th>Release_Date</th>\n",
       "      <th>Movie_Type</th>\n",
       "      <th>Movie_Form</th>\n",
       "      <th>Nationality</th>\n",
       "      <th>National_number_screens</th>\n",
       "      <th>National_Sales</th>\n",
       "      <th>National_Audience</th>\n",
       "      <th>Seoul_Sales</th>\n",
       "      <th>Seoul_Audience</th>\n",
       "      <th>Genre</th>\n",
       "      <th>Rating</th>\n",
       "      <th>Movie_Classification</th>\n",
       "    </tr>\n",
       "  </thead>\n",
       "  <tbody>\n",
       "    <tr>\n",
       "      <th>0</th>\n",
       "      <td>1</td>\n",
       "      <td>명량</td>\n",
       "      <td>김한민</td>\n",
       "      <td>(주)빅스톤픽쳐스</td>\n",
       "      <td>NaN</td>\n",
       "      <td>(주)씨제이이엔엠</td>\n",
       "      <td>2014-07-30</td>\n",
       "      <td>개봉영화</td>\n",
       "      <td>장편</td>\n",
       "      <td>한국</td>\n",
       "      <td>1,587</td>\n",
       "      <td>135,748,398,910</td>\n",
       "      <td>17,613,682</td>\n",
       "      <td>33,121,225,810</td>\n",
       "      <td>4,163,666</td>\n",
       "      <td>사극</td>\n",
       "      <td>15세이상관람가</td>\n",
       "      <td>일반영화</td>\n",
       "    </tr>\n",
       "    <tr>\n",
       "      <th>1</th>\n",
       "      <td>2</td>\n",
       "      <td>아바타</td>\n",
       "      <td>제임스 카메론</td>\n",
       "      <td>이십세기폭스필름코퍼레이션</td>\n",
       "      <td>주식회사 해리슨앤컴퍼니,이십세기폭스코리아(주)</td>\n",
       "      <td>주식회사 해리슨앤컴퍼니,이십세기폭스코리아(주)</td>\n",
       "      <td>2009-12-17</td>\n",
       "      <td>개봉영화</td>\n",
       "      <td>장편</td>\n",
       "      <td>미국</td>\n",
       "      <td>912</td>\n",
       "      <td>128,447,097,523</td>\n",
       "      <td>13,624,328</td>\n",
       "      <td>40,547,523,000</td>\n",
       "      <td>3,993,374</td>\n",
       "      <td>SF</td>\n",
       "      <td>12세이상관람가</td>\n",
       "      <td>독립/예술영화</td>\n",
       "    </tr>\n",
       "    <tr>\n",
       "      <th>2</th>\n",
       "      <td>3</td>\n",
       "      <td>왕의 남자</td>\n",
       "      <td>이준익</td>\n",
       "      <td>(주)씨네월드,(주)이글픽쳐스</td>\n",
       "      <td>NaN</td>\n",
       "      <td>(주)시네마서비스</td>\n",
       "      <td>2005-12-29</td>\n",
       "      <td>개봉영화</td>\n",
       "      <td>장편</td>\n",
       "      <td>한국</td>\n",
       "      <td>0</td>\n",
       "      <td>0</td>\n",
       "      <td>12,302,831</td>\n",
       "      <td>0</td>\n",
       "      <td>3,660,842</td>\n",
       "      <td>드라마</td>\n",
       "      <td>15세이상관람가</td>\n",
       "      <td>일반영화</td>\n",
       "    </tr>\n",
       "    <tr>\n",
       "      <th>3</th>\n",
       "      <td>4</td>\n",
       "      <td>극한직업</td>\n",
       "      <td>이병헌</td>\n",
       "      <td>(주)어바웃잇,영화사 해그림 주식회사,(주)씨제이이엔엠</td>\n",
       "      <td>NaN</td>\n",
       "      <td>(주)씨제이이엔엠</td>\n",
       "      <td>2019-01-23</td>\n",
       "      <td>개봉영화</td>\n",
       "      <td>장편</td>\n",
       "      <td>한국</td>\n",
       "      <td>1,978</td>\n",
       "      <td>139,647,979,516</td>\n",
       "      <td>16,264,944</td>\n",
       "      <td>31,858,660,536</td>\n",
       "      <td>3,638,287</td>\n",
       "      <td>코미디</td>\n",
       "      <td>15세이상관람가</td>\n",
       "      <td>일반영화</td>\n",
       "    </tr>\n",
       "    <tr>\n",
       "      <th>4</th>\n",
       "      <td>5</td>\n",
       "      <td>어벤져스: 엔드게임</td>\n",
       "      <td>안소니 루소,조 루소</td>\n",
       "      <td>NaN</td>\n",
       "      <td>월트디즈니컴퍼니코리아 유한책임회사</td>\n",
       "      <td>월트디즈니컴퍼니코리아 유한책임회사</td>\n",
       "      <td>2019-04-24</td>\n",
       "      <td>개봉영화</td>\n",
       "      <td>장편</td>\n",
       "      <td>미국</td>\n",
       "      <td>2,835</td>\n",
       "      <td>122,182,694,160</td>\n",
       "      <td>13,934,592</td>\n",
       "      <td>33,577,136,860</td>\n",
       "      <td>3,597,963</td>\n",
       "      <td>액션</td>\n",
       "      <td>12세이상관람가</td>\n",
       "      <td>일반영화</td>\n",
       "    </tr>\n",
       "  </tbody>\n",
       "</table>\n",
       "</div>"
      ],
      "text/plain": [
       "   ID  Movie_Name     Director              Production_Company  \\\n",
       "0   1          명량          김한민                       (주)빅스톤픽쳐스   \n",
       "1   2         아바타      제임스 카메론                   이십세기폭스필름코퍼레이션   \n",
       "2   3       왕의 남자          이준익                (주)씨네월드,(주)이글픽쳐스   \n",
       "3   4        극한직업          이병헌  (주)어바웃잇,영화사 해그림 주식회사,(주)씨제이이엔엠   \n",
       "4   5  어벤져스: 엔드게임  안소니 루소,조 루소                             NaN   \n",
       "\n",
       "              Import_Company        Distributing_Agency Release_Date  \\\n",
       "0                        NaN                  (주)씨제이이엔엠   2014-07-30   \n",
       "1  주식회사 해리슨앤컴퍼니,이십세기폭스코리아(주)  주식회사 해리슨앤컴퍼니,이십세기폭스코리아(주)   2009-12-17   \n",
       "2                        NaN                  (주)시네마서비스   2005-12-29   \n",
       "3                        NaN                  (주)씨제이이엔엠   2019-01-23   \n",
       "4         월트디즈니컴퍼니코리아 유한책임회사         월트디즈니컴퍼니코리아 유한책임회사   2019-04-24   \n",
       "\n",
       "  Movie_Type Movie_Form Nationality National_number_screens   National_Sales  \\\n",
       "0       개봉영화         장편          한국                   1,587  135,748,398,910   \n",
       "1       개봉영화         장편          미국                     912  128,447,097,523   \n",
       "2       개봉영화         장편          한국                       0                0   \n",
       "3       개봉영화         장편          한국                   1,978  139,647,979,516   \n",
       "4       개봉영화         장편          미국                   2,835  122,182,694,160   \n",
       "\n",
       "  National_Audience     Seoul_Sales Seoul_Audience Genre    Rating  \\\n",
       "0        17,613,682  33,121,225,810      4,163,666    사극  15세이상관람가   \n",
       "1        13,624,328  40,547,523,000      3,993,374    SF  12세이상관람가   \n",
       "2        12,302,831               0      3,660,842   드라마  15세이상관람가   \n",
       "3        16,264,944  31,858,660,536      3,638,287   코미디  15세이상관람가   \n",
       "4        13,934,592  33,577,136,860      3,597,963    액션  12세이상관람가   \n",
       "\n",
       "  Movie_Classification  \n",
       "0                 일반영화  \n",
       "1              독립/예술영화  \n",
       "2                 일반영화  \n",
       "3                 일반영화  \n",
       "4                 일반영화  "
      ]
     },
     "execution_count": 11,
     "metadata": {},
     "output_type": "execute_result"
    }
   ],
   "source": [
    "data = pd.read_csv('KOBIS.csv')\n",
    "print(data.shape)\n",
    "data.head()"
   ]
  },
  {
   "cell_type": "markdown",
   "metadata": {},
   "source": [
    "## 2. Data PDA"
   ]
  },
  {
   "cell_type": "markdown",
   "metadata": {},
   "source": [
    "* Check how many rows have null values.\n",
    "* Visualization counts of null values in rows"
   ]
  },
  {
   "cell_type": "code",
   "execution_count": 12,
   "metadata": {},
   "outputs": [
    {
     "name": "stdout",
     "output_type": "stream",
     "text": [
      "Counts of rows having null values : 25179\n",
      "Counts of rows having null values over 4 : 238\n"
     ]
    },
    {
     "data": {
      "image/png": "[encoded data removed]",
      "text/plain": [
       "<Figure size 576x576 with 2 Axes>"
      ]
     },
     "metadata": {
      "needs_background": "light"
     },
     "output_type": "display_data"
    }
   ],
   "source": [
    "data_null = data.isnull().sum(axis = 1)\n",
    "data_null = data_null[data_null.values > 0 ]\n",
    "print(\"Counts of rows having null values :\", len(data_null))\n",
    "data_null2 = data_null[data_null.values > 4]\n",
    "print(\"Counts of rows having null values over 4 :\", len(data_null2))\n",
    "\n",
    "fig, ax = plt.subplots(2,1,constrained_layout=True, figsize = (8,8))\n",
    "ax[0].set_title(\"Count of rows null values\")\n",
    "sns.histplot(x=data_null.values, ax = ax[0], bins=20)\n",
    "ax[0].set_ylabel('row count')\n",
    "ax[1].set_title(\"Count of rows null values over 4\")\n",
    "sns.histplot(x=data_null2.values, ax = ax[1], bins=20)\n",
    "ax[1].set_ylabel('row count')\n",
    "\n",
    "plt.show()"
   ]
  },
  {
   "cell_type": "markdown",
   "metadata": {},
   "source": [
    "* Delete rows having over 5 null values(78 count)"
   ]
  },
  {
   "cell_type": "code",
   "execution_count": 13,
   "metadata": {},
   "outputs": [
    {
     "name": "stdout",
     "output_type": "stream",
     "text": [
      "Count : 78\n"
     ]
    }
   ],
   "source": [
    "data_null = data_null[data_null.values > 5]\n",
    "print('Count :', len(data_null))\n",
    "data = data.drop(data_null.index)"
   ]
  },
  {
   "cell_type": "markdown",
   "metadata": {},
   "source": [
    "* Check which columns have null values."
   ]
  },
  {
   "cell_type": "code",
   "execution_count": 14,
   "metadata": {},
   "outputs": [
    {
     "data": {
      "text/plain": [
       "Index(['Director', 'Production_Company', 'Import_Company',\n",
       "       'Distributing_Agency', 'Release_Date', 'Movie_Form', 'Nationality',\n",
       "       'National_Sales', 'Seoul_Sales', 'Genre', 'Rating'],\n",
       "      dtype='object')"
      ]
     },
     "execution_count": 14,
     "metadata": {},
     "output_type": "execute_result"
    }
   ],
   "source": [
    "data_null = data.isnull().any()\n",
    "data_null = data_null[data_null.values == True]\n",
    "data_null_col = data_null.index\n",
    "data_null_col"
   ]
  },
  {
   "cell_type": "markdown",
   "metadata": {},
   "source": [
    "* Visualization how many columns have null values"
   ]
  },
  {
   "cell_type": "code",
   "execution_count": 15,
   "metadata": {},
   "outputs": [
    {
     "data": {
      "image/png": "[encoded data removed]",
      "text/plain": [
       "<Figure size 1080x432 with 1 Axes>"
      ]
     },
     "metadata": {
      "needs_background": "light"
     },
     "output_type": "display_data"
    }
   ],
   "source": [
    "data_null = data.isnull().sum(axis = 0)\n",
    "data_null = data_null[data_null_col]\n",
    "# data_null.sort_values(ascending = False, inplace = True)\n",
    "\n",
    "fig, ax = plt.subplots(constrained_layout=True, figsize = (15,6))\n",
    "sns.barplot(x=data_null.index, y=data_null.values)\n",
    "\n",
    "plt.show()"
   ]
  },
  {
   "cell_type": "markdown",
   "metadata": {},
   "source": [
    "## 3. Data preprocessing"
   ]
  },
  {
   "cell_type": "markdown",
   "metadata": {},
   "source": [
    "1. Divides by whether column will contain numeric or string.\n",
    "   - numeric : 'ID','National_number_screens','National_Sales','National_Audience','Seoul_Sales','Seoul_Audience'\n",
    "   - datetime : Release_date\n",
    "   - string : other columns\n",
    "2. Data preprocessing numeric columns\n",
    "3. Data preprocessing string columns"
   ]
  },
  {
   "cell_type": "markdown",
   "metadata": {},
   "source": [
    "Fill null value with '0' in numeric_columns have string values"
   ]
  },
  {
   "cell_type": "code",
   "execution_count": 16,
   "metadata": {},
   "outputs": [
    {
     "data": {
      "text/plain": [
       "National_number_screens    0\n",
       "National_Sales             0\n",
       "National_Audience          0\n",
       "Seoul_Sales                0\n",
       "Seoul_Audience             0\n",
       "dtype: int64"
      ]
     },
     "execution_count": 16,
     "metadata": {},
     "output_type": "execute_result"
    }
   ],
   "source": [
    "num_columns = ['National_number_screens','National_Sales','National_Audience','Seoul_Sales','Seoul_Audience']\n",
    "data[num_columns] = data[num_columns].fillna('0')\n",
    "data[num_columns].isna().sum()"
   ]
  },
  {
   "cell_type": "markdown",
   "metadata": {},
   "source": [
    "Change num_columns value type to integer"
   ]
  },
  {
   "cell_type": "code",
   "execution_count": 17,
   "metadata": {},
   "outputs": [],
   "source": [
    "for i in num_columns:\n",
    "    data[i] = data[i].str.replace(\",\",\"\").astype('int')"
   ]
  },
  {
   "cell_type": "markdown",
   "metadata": {},
   "source": [
    "Fill null values with 'No_column_name' in  \n",
    "['Director', 'Production_Company', 'Import_Company','Distributing_Agency', 'Release_Date', 'Genre']"
   ]
  },
  {
   "cell_type": "code",
   "execution_count": 18,
   "metadata": {},
   "outputs": [
    {
     "data": {
      "text/plain": [
       "Director                1499\n",
       "Production_Company     15002\n",
       "Import_Company         10477\n",
       "Distributing_Agency     6573\n",
       "Movie_Form                 8\n",
       "Genre                    121\n",
       "dtype: int64"
      ]
     },
     "execution_count": 18,
     "metadata": {},
     "output_type": "execute_result"
    }
   ],
   "source": [
    "# String null columns\n",
    "# string_columns = ['Director', 'Production_Company', 'Import_Company','Distributing_Agency', 'Release_Date', 'Movie_Form', 'Nationality', 'Genre', 'Rating']\n",
    "string_columns1 = ['Director', 'Production_Company', 'Import_Company','Distributing_Agency', 'Movie_Form', 'Genre']\n",
    "data[string_columns1].isnull().sum()"
   ]
  },
  {
   "cell_type": "code",
   "execution_count": 19,
   "metadata": {},
   "outputs": [],
   "source": [
    "for i in string_columns1:\n",
    "    data[i] = data[i].fillna('No_'+ i)\n",
    "# data.head()\n",
    "# data[string_columns1].isnull().sum()"
   ]
  },
  {
   "cell_type": "markdown",
   "metadata": {},
   "source": [
    "Search and fill Nationality column null values"
   ]
  },
  {
   "cell_type": "code",
   "execution_count": 20,
   "metadata": {},
   "outputs": [
    {
     "data": {
      "text/html": [
       "<div>\n",
       "<style scoped>\n",
       "    .dataframe tbody tr th:only-of-type {\n",
       "        vertical-align: middle;\n",
       "    }\n",
       "\n",
       "    .dataframe tbody tr th {\n",
       "        vertical-align: top;\n",
       "    }\n",
       "\n",
       "    .dataframe thead th {\n",
       "        text-align: right;\n",
       "    }\n",
       "</style>\n",
       "<table border=\"1\" class=\"dataframe\">\n",
       "  <thead>\n",
       "    <tr style=\"text-align: right;\">\n",
       "      <th></th>\n",
       "      <th>ID</th>\n",
       "      <th>Movie_Name</th>\n",
       "      <th>Director</th>\n",
       "      <th>Production_Company</th>\n",
       "      <th>Import_Company</th>\n",
       "      <th>Distributing_Agency</th>\n",
       "      <th>Release_Date</th>\n",
       "      <th>Movie_Type</th>\n",
       "      <th>Movie_Form</th>\n",
       "      <th>Nationality</th>\n",
       "      <th>National_number_screens</th>\n",
       "      <th>National_Sales</th>\n",
       "      <th>National_Audience</th>\n",
       "      <th>Seoul_Sales</th>\n",
       "      <th>Seoul_Audience</th>\n",
       "      <th>Genre</th>\n",
       "      <th>Rating</th>\n",
       "      <th>Movie_Classification</th>\n",
       "    </tr>\n",
       "  </thead>\n",
       "  <tbody>\n",
       "    <tr>\n",
       "      <th>251</th>\n",
       "      <td>252</td>\n",
       "      <td>오! 브라더스</td>\n",
       "      <td>No_Director</td>\n",
       "      <td>No_Production_Company</td>\n",
       "      <td>No_Import_Company</td>\n",
       "      <td>No_Distributing_Agency</td>\n",
       "      <td>2003-09-05</td>\n",
       "      <td>개봉영화</td>\n",
       "      <td>장편</td>\n",
       "      <td>NaN</td>\n",
       "      <td>0</td>\n",
       "      <td>0</td>\n",
       "      <td>3148748</td>\n",
       "      <td>0</td>\n",
       "      <td>952010</td>\n",
       "      <td>코미디</td>\n",
       "      <td>15세관람가</td>\n",
       "      <td>일반영화</td>\n",
       "    </tr>\n",
       "    <tr>\n",
       "      <th>3805</th>\n",
       "      <td>3806</td>\n",
       "      <td>필사의 탈출</td>\n",
       "      <td>러스 메이버리</td>\n",
       "      <td>No_Production_Company</td>\n",
       "      <td>연방영화(주)</td>\n",
       "      <td>No_Distributing_Agency</td>\n",
       "      <td>1976-03-20</td>\n",
       "      <td>개봉영화</td>\n",
       "      <td>장편</td>\n",
       "      <td>NaN</td>\n",
       "      <td>0</td>\n",
       "      <td>0</td>\n",
       "      <td>0</td>\n",
       "      <td>0</td>\n",
       "      <td>63727</td>\n",
       "      <td>드라마</td>\n",
       "      <td>NaN</td>\n",
       "      <td>일반영화</td>\n",
       "    </tr>\n",
       "    <tr>\n",
       "      <th>6802</th>\n",
       "      <td>6803</td>\n",
       "      <td>신촉산</td>\n",
       "      <td>서극</td>\n",
       "      <td>No_Production_Company</td>\n",
       "      <td>(주)건화상사</td>\n",
       "      <td>No_Distributing_Agency</td>\n",
       "      <td>1983-04-23</td>\n",
       "      <td>개봉영화</td>\n",
       "      <td>단편</td>\n",
       "      <td>NaN</td>\n",
       "      <td>0</td>\n",
       "      <td>0</td>\n",
       "      <td>0</td>\n",
       "      <td>0</td>\n",
       "      <td>16422</td>\n",
       "      <td>액션</td>\n",
       "      <td>NaN</td>\n",
       "      <td>일반영화</td>\n",
       "    </tr>\n",
       "    <tr>\n",
       "      <th>23940</th>\n",
       "      <td>23941</td>\n",
       "      <td>우리는그들을잊으려한다</td>\n",
       "      <td>다코 베직</td>\n",
       "      <td>No_Production_Company</td>\n",
       "      <td>No_Import_Company</td>\n",
       "      <td>No_Distributing_Agency</td>\n",
       "      <td>1992-03-27</td>\n",
       "      <td>개봉영화</td>\n",
       "      <td>No_Movie_Form</td>\n",
       "      <td>NaN</td>\n",
       "      <td>0</td>\n",
       "      <td>0</td>\n",
       "      <td>0</td>\n",
       "      <td>0</td>\n",
       "      <td>0</td>\n",
       "      <td>드라마</td>\n",
       "      <td>고등학생이상관람가</td>\n",
       "      <td>일반영화</td>\n",
       "    </tr>\n",
       "  </tbody>\n",
       "</table>\n",
       "</div>"
      ],
      "text/plain": [
       "          ID   Movie_Name     Director     Production_Company  \\\n",
       "251      252      오! 브라더스  No_Director  No_Production_Company   \n",
       "3805    3806       필사의 탈출      러스 메이버리  No_Production_Company   \n",
       "6802    6803          신촉산           서극  No_Production_Company   \n",
       "23940  23941  우리는그들을잊으려한다        다코 베직  No_Production_Company   \n",
       "\n",
       "          Import_Company     Distributing_Agency Release_Date Movie_Type  \\\n",
       "251    No_Import_Company  No_Distributing_Agency   2003-09-05       개봉영화   \n",
       "3805             연방영화(주)  No_Distributing_Agency   1976-03-20       개봉영화   \n",
       "6802             (주)건화상사  No_Distributing_Agency   1983-04-23       개봉영화   \n",
       "23940  No_Import_Company  No_Distributing_Agency   1992-03-27       개봉영화   \n",
       "\n",
       "          Movie_Form Nationality  National_number_screens  National_Sales  \\\n",
       "251               장편         NaN                        0               0   \n",
       "3805              장편         NaN                        0               0   \n",
       "6802              단편         NaN                        0               0   \n",
       "23940  No_Movie_Form         NaN                        0               0   \n",
       "\n",
       "       National_Audience  Seoul_Sales  Seoul_Audience Genre     Rating  \\\n",
       "251              3148748            0          952010   코미디     15세관람가   \n",
       "3805                   0            0           63727   드라마        NaN   \n",
       "6802                   0            0           16422    액션        NaN   \n",
       "23940                  0            0               0   드라마  고등학생이상관람가   \n",
       "\n",
       "      Movie_Classification  \n",
       "251                   일반영화  \n",
       "3805                  일반영화  \n",
       "6802                  일반영화  \n",
       "23940                 일반영화  "
      ]
     },
     "execution_count": 20,
     "metadata": {},
     "output_type": "execute_result"
    }
   ],
   "source": [
    "data[data['Nationality'].isnull()]"
   ]
  },
  {
   "cell_type": "markdown",
   "metadata": {},
   "source": [
    "* 오! 브라더스 : 한국  \n",
    "* 필사의 탈출 : 미국  \n",
    "* 신촉산 : 홍콩  \n",
    "* 우리는그들을잊으려한다 : 유고슬라비아  \n",
    "We have to see that values in columns"
   ]
  },
  {
   "cell_type": "code",
   "execution_count": 27,
   "metadata": {},
   "outputs": [
    {
     "name": "stdout",
     "output_type": "stream",
     "text": [
      "True\n",
      "True\n",
      "True\n",
      "True\n"
     ]
    }
   ],
   "source": [
    "Nationality_columns = ['한국','미국','홍콩','유고슬라비아']\n",
    "for i in Nationality_columns:\n",
    "    print(i in set(data['Nationality']))"
   ]
  },
  {
   "cell_type": "markdown",
   "metadata": {},
   "source": [
    "All values also in column  \n",
    "so, add values in each rows"
   ]
  },
  {
   "cell_type": "code",
   "execution_count": 31,
   "metadata": {},
   "outputs": [
    {
     "data": {
      "text/html": [
       "<div>\n",
       "<style scoped>\n",
       "    .dataframe tbody tr th:only-of-type {\n",
       "        vertical-align: middle;\n",
       "    }\n",
       "\n",
       "    .dataframe tbody tr th {\n",
       "        vertical-align: top;\n",
       "    }\n",
       "\n",
       "    .dataframe thead th {\n",
       "        text-align: right;\n",
       "    }\n",
       "</style>\n",
       "<table border=\"1\" class=\"dataframe\">\n",
       "  <thead>\n",
       "    <tr style=\"text-align: right;\">\n",
       "      <th></th>\n",
       "      <th>ID</th>\n",
       "      <th>Movie_Name</th>\n",
       "      <th>Director</th>\n",
       "      <th>Production_Company</th>\n",
       "      <th>Import_Company</th>\n",
       "      <th>Distributing_Agency</th>\n",
       "      <th>Release_Date</th>\n",
       "      <th>Movie_Type</th>\n",
       "      <th>Movie_Form</th>\n",
       "      <th>Nationality</th>\n",
       "      <th>National_number_screens</th>\n",
       "      <th>National_Sales</th>\n",
       "      <th>National_Audience</th>\n",
       "      <th>Seoul_Sales</th>\n",
       "      <th>Seoul_Audience</th>\n",
       "      <th>Genre</th>\n",
       "      <th>Rating</th>\n",
       "      <th>Movie_Classification</th>\n",
       "    </tr>\n",
       "  </thead>\n",
       "  <tbody>\n",
       "    <tr>\n",
       "      <th>251</th>\n",
       "      <td>252</td>\n",
       "      <td>오! 브라더스</td>\n",
       "      <td>No_Director</td>\n",
       "      <td>No_Production_Company</td>\n",
       "      <td>No_Import_Company</td>\n",
       "      <td>No_Distributing_Agency</td>\n",
       "      <td>2003-09-05</td>\n",
       "      <td>개봉영화</td>\n",
       "      <td>장편</td>\n",
       "      <td>한국</td>\n",
       "      <td>0</td>\n",
       "      <td>0</td>\n",
       "      <td>3148748</td>\n",
       "      <td>0</td>\n",
       "      <td>952010</td>\n",
       "      <td>코미디</td>\n",
       "      <td>15세관람가</td>\n",
       "      <td>일반영화</td>\n",
       "    </tr>\n",
       "    <tr>\n",
       "      <th>3805</th>\n",
       "      <td>3806</td>\n",
       "      <td>필사의 탈출</td>\n",
       "      <td>러스 메이버리</td>\n",
       "      <td>No_Production_Company</td>\n",
       "      <td>연방영화(주)</td>\n",
       "      <td>No_Distributing_Agency</td>\n",
       "      <td>1976-03-20</td>\n",
       "      <td>개봉영화</td>\n",
       "      <td>장편</td>\n",
       "      <td>미국</td>\n",
       "      <td>0</td>\n",
       "      <td>0</td>\n",
       "      <td>0</td>\n",
       "      <td>0</td>\n",
       "      <td>63727</td>\n",
       "      <td>드라마</td>\n",
       "      <td>NaN</td>\n",
       "      <td>일반영화</td>\n",
       "    </tr>\n",
       "    <tr>\n",
       "      <th>6802</th>\n",
       "      <td>6803</td>\n",
       "      <td>신촉산</td>\n",
       "      <td>서극</td>\n",
       "      <td>No_Production_Company</td>\n",
       "      <td>(주)건화상사</td>\n",
       "      <td>No_Distributing_Agency</td>\n",
       "      <td>1983-04-23</td>\n",
       "      <td>개봉영화</td>\n",
       "      <td>단편</td>\n",
       "      <td>홍콩</td>\n",
       "      <td>0</td>\n",
       "      <td>0</td>\n",
       "      <td>0</td>\n",
       "      <td>0</td>\n",
       "      <td>16422</td>\n",
       "      <td>액션</td>\n",
       "      <td>NaN</td>\n",
       "      <td>일반영화</td>\n",
       "    </tr>\n",
       "    <tr>\n",
       "      <th>23940</th>\n",
       "      <td>23941</td>\n",
       "      <td>우리는그들을잊으려한다</td>\n",
       "      <td>다코 베직</td>\n",
       "      <td>No_Production_Company</td>\n",
       "      <td>No_Import_Company</td>\n",
       "      <td>No_Distributing_Agency</td>\n",
       "      <td>1992-03-27</td>\n",
       "      <td>개봉영화</td>\n",
       "      <td>No_Movie_Form</td>\n",
       "      <td>유고슬라비아</td>\n",
       "      <td>0</td>\n",
       "      <td>0</td>\n",
       "      <td>0</td>\n",
       "      <td>0</td>\n",
       "      <td>0</td>\n",
       "      <td>드라마</td>\n",
       "      <td>고등학생이상관람가</td>\n",
       "      <td>일반영화</td>\n",
       "    </tr>\n",
       "  </tbody>\n",
       "</table>\n",
       "</div>"
      ],
      "text/plain": [
       "          ID   Movie_Name     Director     Production_Company  \\\n",
       "251      252      오! 브라더스  No_Director  No_Production_Company   \n",
       "3805    3806       필사의 탈출      러스 메이버리  No_Production_Company   \n",
       "6802    6803          신촉산           서극  No_Production_Company   \n",
       "23940  23941  우리는그들을잊으려한다        다코 베직  No_Production_Company   \n",
       "\n",
       "          Import_Company     Distributing_Agency Release_Date Movie_Type  \\\n",
       "251    No_Import_Company  No_Distributing_Agency   2003-09-05       개봉영화   \n",
       "3805             연방영화(주)  No_Distributing_Agency   1976-03-20       개봉영화   \n",
       "6802             (주)건화상사  No_Distributing_Agency   1983-04-23       개봉영화   \n",
       "23940  No_Import_Company  No_Distributing_Agency   1992-03-27       개봉영화   \n",
       "\n",
       "          Movie_Form Nationality  National_number_screens  National_Sales  \\\n",
       "251               장편          한국                        0               0   \n",
       "3805              장편          미국                        0               0   \n",
       "6802              단편          홍콩                        0               0   \n",
       "23940  No_Movie_Form      유고슬라비아                        0               0   \n",
       "\n",
       "       National_Audience  Seoul_Sales  Seoul_Audience Genre     Rating  \\\n",
       "251              3148748            0          952010   코미디     15세관람가   \n",
       "3805                   0            0           63727   드라마        NaN   \n",
       "6802                   0            0           16422    액션        NaN   \n",
       "23940                  0            0               0   드라마  고등학생이상관람가   \n",
       "\n",
       "      Movie_Classification  \n",
       "251                   일반영화  \n",
       "3805                  일반영화  \n",
       "6802                  일반영화  \n",
       "23940                 일반영화  "
      ]
     },
     "execution_count": 31,
     "metadata": {},
     "output_type": "execute_result"
    }
   ],
   "source": [
    "data.loc[251 , 'Nationality' ] = '한국'\n",
    "data.loc[3805 , 'Nationality' ] = '미국'\n",
    "data.loc[6802 , 'Nationality' ] = '홍콩'\n",
    "data.loc[23940 , 'Nationality' ] = '유고슬라비아'\n",
    "data.loc[[251, 3805, 6802, 23940]]"
   ]
  },
  {
   "cell_type": "code",
   "execution_count": 21,
   "metadata": {},
   "outputs": [
    {
     "data": {
      "image/png": "[encoded data removed]",
      "text/plain": [
       "<Figure size 1440x576 with 1 Axes>"
      ]
     },
     "metadata": {
      "needs_background": "light"
     },
     "output_type": "display_data"
    }
   ],
   "source": [
    "# Audience by genre in every 5~10 years\n",
    "fig, ax = plt.subplots(figsize=(20, 8))\n",
    "fig = sns.barplot(x=data['Genre'], y=data['National_Audience'])\n",
    "plt.show()"
   ]
  },
  {
   "cell_type": "code",
   "execution_count": 22,
   "metadata": {},
   "outputs": [
    {
     "data": {
      "image/png": "[encoded data removed]",
      "text/plain": [
       "<Figure size 1440x576 with 1 Axes>"
      ]
     },
     "metadata": {
      "needs_background": "light"
     },
     "output_type": "display_data"
    }
   ],
   "source": [
    "# Audience by genre in every 5~10 years\n",
    "fig, ax = plt.subplots(figsize=(20, 8))\n",
    "fig = sns.stripplot(x=data['Genre'], y=data['National_Audience'])\n",
    "plt.show()"
   ]
  }
 ],
 "metadata": {
  "kernelspec": {
   "display_name": "Python 3.8.8 ('venv': venv)",
   "language": "python",
   "name": "python3"
  },
  "language_info": {
   "codemirror_mode": {
    "name": "ipython",
    "version": 3
   },
   "file_extension": ".py",
   "mimetype": "text/x-python",
   "name": "python",
   "nbconvert_exporter": "python",
   "pygments_lexer": "ipython3",
   "version": "3.8.8"
  },
  "orig_nbformat": 4,
  "vscode": {
   "interpreter": {
    "hash": "bc801652c5d8c82debdbd7e7d6d8892fec504db73c03735927f1e533ad285568"
   }
  }
 },
 "nbformat": 4,
 "nbformat_minor": 2
}
